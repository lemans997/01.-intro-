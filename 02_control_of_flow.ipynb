{
 "cells": [
  {
   "cell_type": "code",
   "execution_count": null,
   "id": "af7a647b-bfa5-47fc-887a-becd24ce7769",
   "metadata": {},
   "outputs": [],
   "source": []
  },
  {
   "cell_type": "markdown",
   "id": "02dd86b2-2f52-4bba-82b8-25fee7767522",
   "metadata": {},
   "source": [
    "#제어문"
   ]
  },
  {
   "cell_type": "markdown",
   "id": "9275685f-843f-49b0-b957-5e6218bd7949",
   "metadata": {},
   "source": [
    "## 조건문(if문)\n",
    "\n",
    "```python\n",
    "if <조건식>:\n",
    "    if의 조건식이 참인 경우 실행하는 코드\n",
    "else:\n",
    "    if의 조건식이 거짓이 경우 실행하는 코드\n",
    "```\n",
    "\n",
    "1. `if`문은 반드시 참/거짓을 판단 할 수 있는 `조건식`과 함께 사용한다.\n",
    "2. `조건식` 이 참인경우 : 이후의 문장을 실행한다\n",
    "3. `조건식` 이 거짓인경우 `else:` 이후의 문장을 실행한다."
   ]
  },
  {
   "cell_type": "code",
   "execution_count": 3,
   "id": "692f3e1e-c49a-4c66-85a1-12ef916b1a0f",
   "metadata": {},
   "outputs": [
    {
     "name": "stdout",
     "output_type": "stream",
     "text": [
      " 12/12\n"
     ]
    },
    {
     "name": "stdout",
     "output_type": "stream",
     "text": [
      "크리스마스가 아닙니다\n"
     ]
    }
   ],
   "source": [
    "my_string = input()\n",
    "\n",
    "if my_string == '12/25':\n",
    "    print('크리스마스입니다')\n",
    "else:\n",
    "    print('크리스마스가 아닙니다')"
   ]
  },
  {
   "cell_type": "code",
   "execution_count": 8,
   "id": "5e3a3c83-ade2-4c99-a0c9-2453062bdbf9",
   "metadata": {},
   "outputs": [
    {
     "name": "stdout",
     "output_type": "stream",
     "text": [
      "숫자를 입력해주세요 :  5\n"
     ]
    },
    {
     "name": "stdout",
     "output_type": "stream",
     "text": [
      "홀수입니다\n"
     ]
    }
   ],
   "source": [
    "num = input('숫자를 입력해주세요 : ')\n",
    "num = int(num)\n",
    "\n",
    "if num % 2 == 0:\n",
    "    print('짝수입니다')\n",
    "else:\n",
    "    print('홀수입니다')"
   ]
  },
  {
   "cell_type": "code",
   "execution_count": 9,
   "id": "db5e0013-45bc-436c-ad47-a0de49239fa4",
   "metadata": {},
   "outputs": [
    {
     "name": "stdout",
     "output_type": "stream",
     "text": [
      "숫자를 입력해주세요 :  5\n"
     ]
    },
    {
     "name": "stdout",
     "output_type": "stream",
     "text": [
      "홀수입니다\n"
     ]
    }
   ],
   "source": [
    "num = input('숫자를 입력해주세요 : ')\n",
    "num = int(num)\n",
    "\n",
    "if num % 2 == 1:\n",
    "    print('홀수입니다')\n",
    "else:\n",
    "    print('짝수입니다')"
   ]
  },
  {
   "cell_type": "code",
   "execution_count": 11,
   "id": "c5654e71-a547-4ae8-9449-83816967fa99",
   "metadata": {},
   "outputs": [
    {
     "name": "stdout",
     "output_type": "stream",
     "text": [
      "숫자를 입력해주세요 :  13\n"
     ]
    },
    {
     "name": "stdout",
     "output_type": "stream",
     "text": [
      "홀수입니다\n"
     ]
    }
   ],
   "source": [
    "# num을 2로 나눈 나머지는 0, 1 두가지 경우가 있다\n",
    "# if 조건식에 0, 1은 자동형변환이 일어나 False, True로 변화된다\n",
    "num = input('숫자를 입력해주세요 : ')\n",
    "num = int(num)\n",
    "\n",
    "if num % 2:\n",
    "    print('홀수입니다')\n",
    "else:\n",
    "    print('짝수입니다')"
   ]
  },
  {
   "cell_type": "markdown",
   "id": "56815ffd-1ea1-4f2a-94b4-1ac086cd3267",
   "metadata": {},
   "source": [
    "### elif\n",
    "\n",
    "```python\n",
    "if <조건식>:\n",
    "    if 조건이 참인 경우 실행\n",
    "elif<조건식>:\n",
    "    elif 조건이 참인 경우 실행\n",
    "    else:\n",
    "        위의 조건식에 하나도 부합하지 않는 경우 실행\n",
    "```"
   ]
  },
  {
   "cell_type": "code",
   "execution_count": 19,
   "id": "10c7c0b3-5f91-4a3b-b6bc-7e77e47b7054",
   "metadata": {},
   "outputs": [
    {
     "name": "stdout",
     "output_type": "stream",
     "text": [
      " 95\n"
     ]
    },
    {
     "name": "stdout",
     "output_type": "stream",
     "text": [
      "90점이상 A\n",
      "good\n"
     ]
    }
   ],
   "source": [
    "score = int(input())\n",
    "\n",
    "if score >= 90:\n",
    "    print('90점이상 A')\n",
    "    if score >= 95:\n",
    "        print('good')\n",
    "elif score >= 80:\n",
    "    print('80점이상 B')\n",
    "elif score >= 70:\n",
    "    print('70점이상 C')\n",
    "else:\n",
    "    print('나머지 F')"
   ]
  },
  {
   "cell_type": "markdown",
   "id": "acf753c4-cb9c-4d00-8d52-4627f4e1e77d",
   "metadata": {},
   "source": [
    "### 조건표현식\n",
    "```python\n",
    "true_value if <조건식> else false_value\n",
    "```"
   ]
  },
  {
   "cell_type": "code",
   "execution_count": 1,
   "id": "c86b4e21-fe55-4635-b4f4-0afe086c90de",
   "metadata": {},
   "outputs": [
    {
     "name": "stdout",
     "output_type": "stream",
     "text": [
      "False\n"
     ]
    }
   ],
   "source": [
    "print('True')if 1 < 0 else print('False')"
   ]
  },
  {
   "cell_type": "code",
   "execution_count": 2,
   "id": "36b33072-ba41-4be4-a804-b0a50b37361a",
   "metadata": {},
   "outputs": [
    {
     "name": "stdout",
     "output_type": "stream",
     "text": [
      "Fa;se\n"
     ]
    }
   ],
   "source": [
    "if 1 < 0:\n",
    "    print('True')\n",
    "else:\n",
    "    print('Fa;se')"
   ]
  },
  {
   "cell_type": "code",
   "execution_count": 6,
   "id": "ea1b5856-8160-4fda-bb29-b8cec8b55c30",
   "metadata": {},
   "outputs": [
    {
     "name": "stdout",
     "output_type": "stream",
     "text": [
      "0\n"
     ]
    }
   ],
   "source": [
    "num = -5\n",
    "\n",
    "if num >= 0:\n",
    "    value = num\n",
    "else:\n",
    "    value = 0\n",
    "\n",
    "print(value)"
   ]
  },
  {
   "cell_type": "code",
   "execution_count": 5,
   "id": "0b9c4cb0-5dba-4811-aed1-224f6aeb8360",
   "metadata": {},
   "outputs": [
    {
     "name": "stdout",
     "output_type": "stream",
     "text": [
      "0\n"
     ]
    }
   ],
   "source": [
    "num = -5\n",
    "value = num if num >= 0 else 0\n",
    "print(value)"
   ]
  },
  {
   "cell_type": "code",
   "execution_count": 7,
   "id": "ada94060-13d2-45a6-b63d-3e628f8dcf76",
   "metadata": {},
   "outputs": [
    {
     "name": "stdout",
     "output_type": "stream",
     "text": [
      "짝수\n"
     ]
    }
   ],
   "source": [
    "num = 10\n",
    "if num % 2 == 1:\n",
    "    result = '홀수'\n",
    "else:\n",
    "    result = '짝수'\n",
    "print(result)"
   ]
  },
  {
   "cell_type": "code",
   "execution_count": 8,
   "id": "c312b2c0-3b98-411d-9f9d-01f3bd1b3ca3",
   "metadata": {},
   "outputs": [
    {
     "name": "stdout",
     "output_type": "stream",
     "text": [
      "홀수\n"
     ]
    }
   ],
   "source": [
    "num = 5\n",
    "result = '홀수' if num % 2 == 1 else '짝수'\n",
    "print(result)"
   ]
  },
  {
   "cell_type": "markdown",
   "id": "31d4fe70-f446-4c27-b59c-22fb79ff315f",
   "metadata": {},
   "source": [
    "## 반복문\n",
    "\n",
    "### while 문\n",
    "```python\n",
    " while <조건식>:\n",
    "    실행한 코드\n",
    "```"
   ]
  },
  {
   "cell_type": "code",
   "execution_count": 9,
   "id": "a381d5bb-5f0f-41ce-87bb-aba0b45851ec",
   "metadata": {},
   "outputs": [
    {
     "name": "stdout",
     "output_type": "stream",
     "text": [
      "0\n",
      "1\n",
      "2\n",
      "3\n",
      "4\n"
     ]
    }
   ],
   "source": [
    "a = 0\n",
    "\n",
    "while a < 5:\n",
    "    print(a)\n",
    "    a += 1\n",
    "    # a = a + 1"
   ]
  },
  {
   "cell_type": "code",
   "execution_count": 10,
   "id": "f4cd9c53-9ec2-405e-90fb-3696edafe9c0",
   "metadata": {},
   "outputs": [
    {
     "name": "stdin",
     "output_type": "stream",
     "text": [
      "안녕이라고 해줘 123\n",
      "안녕이라고 해줘 안녕\n"
     ]
    }
   ],
   "source": [
    "greeting = ''\n",
    "\n",
    "while greeting != '안녕':\n",
    "    greeting = input('안녕이라고 해줘')"
   ]
  },
  {
   "cell_type": "markdown",
   "id": "75857a90-6d56-45e2-a7ca-ef8b98d50acd",
   "metadata": {},
   "source": [
    "### for\n",
    "정해진 범위 내의 반복\n",
    "```python\n",
    "    for variable in sequence:\n",
    "    싱행할 코드\n",
    "```"
   ]
  },
  {
   "cell_type": "code",
   "execution_count": 12,
   "id": "d364f49c-bf65-4768-a6a8-f5596af8004b",
   "metadata": {},
   "outputs": [
    {
     "name": "stdout",
     "output_type": "stream",
     "text": [
      "1\n",
      "2\n",
      "3\n",
      "4\n",
      "5\n"
     ]
    }
   ],
   "source": [
    "numbers = [1, 2, 3, 4, 5]\n",
    "for number in numbers:\n",
    "    print(number)"
   ]
  },
  {
   "cell_type": "code",
   "execution_count": 13,
   "id": "6a53cbc4-6d0e-4395-97ae-28ff7bcd0b71",
   "metadata": {},
   "outputs": [
    {
     "name": "stdin",
     "output_type": "stream",
     "text": [
      "단어를 입력해주세요 :  apple\n"
     ]
    },
    {
     "name": "stdout",
     "output_type": "stream",
     "text": [
      "a\n",
      "p\n",
      "p\n",
      "l\n",
      "e\n"
     ]
    }
   ],
   "source": [
    "word = input('단어를 입력해주세요 : ')\n",
    "\n",
    "for cher in word:\n",
    "    print(cher)"
   ]
  },
  {
   "cell_type": "code",
   "execution_count": 15,
   "id": "d304a61f-6930-4b1e-acf1-21e15cfc4cd0",
   "metadata": {},
   "outputs": [
    {
     "name": "stdout",
     "output_type": "stream",
     "text": [
      "0\n",
      "1\n",
      "2\n",
      "3\n",
      "4\n"
     ]
    }
   ],
   "source": [
    "for i in range(5):\n",
    "    print(i)"
   ]
  },
  {
   "cell_type": "code",
   "execution_count": 16,
   "id": "f6a6992c-7a17-4113-bbee-37b95dee4794",
   "metadata": {},
   "outputs": [
    {
     "name": "stdout",
     "output_type": "stream",
     "text": [
      "1\n",
      "2\n",
      "3\n",
      "4\n",
      "5\n"
     ]
    }
   ],
   "source": [
    "for i in (1, 2, 3, 4, 5):\n",
    "    print(i)"
   ]
  },
  {
   "cell_type": "code",
   "execution_count": 19,
   "id": "30016880-de6c-450e-a963-c830212563df",
   "metadata": {},
   "outputs": [
    {
     "name": "stdout",
     "output_type": "stream",
     "text": [
      "[1, 3, 5, 7, 9, 11, 13, 15, 17, 19, 21, 23, 25, 27, 29]\n"
     ]
    }
   ],
   "source": [
    "# 1. 1~30까지 숫자 중에서 홀수를 출력\n",
    "# 2. 1~30까지 숫자 중에서 홀수를 모아서 리스트로 출력\n",
    "\n",
    "numbers = range(31)\n",
    "result = []\n",
    "\n",
    "for number in numbers:\n",
    "    if number % 2 == 1:\n",
    "        # print(number)\n",
    "        result.append(number)\n",
    "\n",
    "print(result)"
   ]
  },
  {
   "cell_type": "code",
   "execution_count": 25,
   "id": "e2d57efd-57ff-4d9f-8693-be497ac0830c",
   "metadata": {},
   "outputs": [
    {
     "name": "stdout",
     "output_type": "stream",
     "text": [
      "라면\n",
      "김밥\n",
      "떡볶이\n",
      "돈까스\n",
      "튀김\n"
     ]
    }
   ],
   "source": [
    "menus = ['라면', '김밥', '떡볶이', '돈까스', '튀김']\n",
    "\n",
    "for menu in menus:\n",
    "    print(menu)"
   ]
  },
  {
   "cell_type": "code",
   "execution_count": 26,
   "id": "b67c1678-5a67-47d8-9220-3e39de5661c8",
   "metadata": {},
   "outputs": [
    {
     "name": "stdout",
     "output_type": "stream",
     "text": [
      "라면\n",
      "김밥\n",
      "떡볶이\n",
      "돈까스\n",
      "튀김\n"
     ]
    }
   ],
   "source": [
    "for i in range(len(menus)):\n",
    "    print(menus[i])"
   ]
  },
  {
   "cell_type": "code",
   "execution_count": 28,
   "id": "a3f69bf7-64b7-4b1e-89d3-1e7828f22ede",
   "metadata": {},
   "outputs": [
    {
     "name": "stdout",
     "output_type": "stream",
     "text": [
      "(0, '라면')\n",
      "(1, '김밥')\n",
      "(2, '떡볶이')\n",
      "(3, '돈까스')\n",
      "(4, '튀김')\n"
     ]
    }
   ],
   "source": [
    "for item in enumerate(menus):\n",
    "    print(item)"
   ]
  },
  {
   "cell_type": "code",
   "execution_count": 31,
   "id": "8033a53f-f2e5-4863-bfc5-74c71a40cb5f",
   "metadata": {},
   "outputs": [
    {
     "name": "stdout",
     "output_type": "stream",
     "text": [
      "0 라면\n",
      "1 김밥\n",
      "2 떡볶이\n",
      "3 돈까스\n",
      "4 튀김\n"
     ]
    }
   ],
   "source": [
    "for index, menu in enumerate(menus):\n",
    "    print(index, menu)"
   ]
  },
  {
   "cell_type": "markdown",
   "id": "5c873b52-d2a5-4555-8dfe-e6d92c63f2aa",
   "metadata": {},
   "source": [
    "### dictionary 반복\n",
    "\n",
    "1. for key in dict:\n",
    "2. for key in dict.keys():\n",
    "3. for value in dict.values():\n",
    "4. for key, value in dict.item():"
   ]
  },
  {
   "cell_type": "code",
   "execution_count": 47,
   "id": "81c9e65a-5d3e-4a3e-9c71-92fd9ad7c388",
   "metadata": {},
   "outputs": [],
   "source": [
    "info = {\n",
    "    'name': 'changhee',\n",
    "    'location': 'seoul',\n",
    "    'phone': '010-1234-1234',\n",
    "}"
   ]
  },
  {
   "cell_type": "code",
   "execution_count": 52,
   "id": "767b6559-0f03-48bb-87c9-6367ae721f36",
   "metadata": {},
   "outputs": [
    {
     "name": "stdout",
     "output_type": "stream",
     "text": [
      "name\n",
      "changhee\n",
      "location\n",
      "seoul\n",
      "phone\n",
      "010-1234-1234\n"
     ]
    }
   ],
   "source": [
    "for key in info:\n",
    "    print(key)\n",
    "    print(info[key])"
   ]
  },
  {
   "cell_type": "code",
   "execution_count": 40,
   "id": "3e0261f1-ac18-41c2-b476-ee655c2db9a5",
   "metadata": {},
   "outputs": [],
   "source": [
    "blood_type = {\n",
    "    'A': 5,\n",
    "    'B': 4,\n",
    "    'O': 2,\n",
    "    'AB': 3,\n",
    "}"
   ]
  },
  {
   "cell_type": "code",
   "execution_count": 41,
   "id": "742cbcc8-3755-4318-b0b8-ea19a9aff9f7",
   "metadata": {},
   "outputs": [
    {
     "name": "stdout",
     "output_type": "stream",
     "text": [
      "혈액형 목록은 다음과 같습니다\n",
      "A\n",
      "B\n",
      "O\n",
      "AB\n"
     ]
    }
   ],
   "source": [
    "print('혈액형 목록은 다음과 같습니다')\n",
    "for key in blood_type:\n",
    "    print(key)"
   ]
  },
  {
   "cell_type": "code",
   "execution_count": 42,
   "id": "23cba7b8-e80a-47ae-a938-d4c40df50463",
   "metadata": {},
   "outputs": [
    {
     "name": "stdout",
     "output_type": "stream",
     "text": [
      "혈액형 목록은 다음과 같습니다\n",
      "A\n",
      "B\n",
      "O\n",
      "AB\n"
     ]
    }
   ],
   "source": [
    "print('혈액형 목록은 다음과 같습니다')\n",
    "for key in blood_type.keys():\n",
    "    print(key)"
   ]
  },
  {
   "cell_type": "code",
   "execution_count": 44,
   "id": "56a3a8b2-fbb9-4fa9-b2d1-4bc65a8eee7e",
   "metadata": {},
   "outputs": [
    {
     "name": "stdout",
     "output_type": "stream",
     "text": [
      "총인원은 14명입니다.\n"
     ]
    }
   ],
   "source": [
    "result = 0\n",
    "\n",
    "for value in blood_type.values():\n",
    "    # print(value)\n",
    "    result = result + value\n",
    "    # result += value\n",
    "\n",
    "print(f'총인원은 {result}명입니다.')"
   ]
  },
  {
   "cell_type": "code",
   "execution_count": 58,
   "id": "53e0162f-1caf-48da-bc9f-c026708555f9",
   "metadata": {},
   "outputs": [
    {
     "name": "stdout",
     "output_type": "stream",
     "text": [
      "A형은 3명입니다.\n",
      "B형은 3명입니다.\n",
      "O형은 3명입니다.\n",
      "AB형은 3명입니다.\n"
     ]
    }
   ],
   "source": [
    "for key, valus in blood_type.items():\n",
    "    print(f'{key}형은 {value}명입니다.')"
   ]
  },
  {
   "cell_type": "markdown",
   "id": "b9e1913c-dc7c-4eb8-8bab-a21064fce32a",
   "metadata": {},
   "source": [
    "## break\n",
    "### 반복문을 종료시키는 키워드"
   ]
  },
  {
   "cell_type": "code",
   "execution_count": 62,
   "id": "a858166f-493e-4e51-b714-7971ce2e7e43",
   "metadata": {},
   "outputs": [
    {
     "name": "stdout",
     "output_type": "stream",
     "text": [
      "0\n",
      "1\n",
      "2\n",
      "3\n",
      "4\n",
      "5\n",
      "6\n",
      "7\n",
      "8\n",
      "9\n",
      "10\n",
      "11\n",
      "10넘었어!!!\n"
     ]
    }
   ],
   "source": [
    "for i in range(100):\n",
    "    print(i)\n",
    "    if i > 10:\n",
    "        print('10넘었어!!!')\n",
    "        break"
   ]
  },
  {
   "cell_type": "code",
   "execution_count": 70,
   "id": "6b53b011-3dcc-4737-a022-efda2840477d",
   "metadata": {},
   "outputs": [
    {
     "name": "stdout",
     "output_type": "stream",
     "text": [
      "보리\n",
      "보리\n",
      "보리\n",
      "쌀\n",
      "잡았다!\n"
     ]
    }
   ],
   "source": [
    "rice = ['보리', '보리', '보리', '쌀', '보리', '보리', '보리']\n",
    "#보리 보리 보리 보리 쌀 잡았다!\n",
    "for r in rice:\n",
    "    print(r)\n",
    "    if r == '쌀':\n",
    "        print('잡았다!')\n",
    "        break"
   ]
  },
  {
   "cell_type": "markdown",
   "id": "ac82a332-8ca1-4bd0-bf35-fc7dc8fbfb68",
   "metadata": {},
   "source": [
    "## continue\n",
    "### continue 이후의 코드를 실행하지 않고 다음 반복을 실행"
   ]
  },
  {
   "cell_type": "code",
   "execution_count": 71,
   "id": "b72afa13-525a-43a2-88c1-cf47579cfbe8",
   "metadata": {},
   "outputs": [
    {
     "name": "stdout",
     "output_type": "stream",
     "text": [
      "0\n",
      "2\n",
      "4\n",
      "6\n",
      "8\n"
     ]
    }
   ],
   "source": [
    "for i in range(10):\n",
    "    if i % 2:\n",
    "        continue\n",
    "\n",
    "    print(i)"
   ]
  },
  {
   "cell_type": "code",
   "execution_count": 73,
   "id": "19385d0d-d22f-4f9e-96d6-29245d5b1a61",
   "metadata": {},
   "outputs": [
    {
     "name": "stdout",
     "output_type": "stream",
     "text": [
      "23살은 성인입니다.\n",
      "30살은 성인입니다.\n",
      "29살은 성인입니다.\n"
     ]
    }
   ],
   "source": [
    "age = [10, 23, 8, 30, 29, 15]\n",
    "\n",
    "for a in age:\n",
    "    if a < 20:\n",
    "        continue\n",
    "    print(f'{a}살은 성인입니다.')"
   ]
  },
  {
   "cell_type": "markdown",
   "id": "0aa99030-a922-457b-85c8-76c9fcca18d0",
   "metadata": {},
   "source": [
    "#### else\n",
    "else문은 끝까지 반복이 진행이 된 후 실행합니다.(break를 만나지 않은경우)"
   ]
  },
  {
   "cell_type": "code",
   "execution_count": 76,
   "id": "e0bedbb6-13d3-4058-b815-3da8852d0a1a",
   "metadata": {},
   "outputs": [
    {
     "name": "stdout",
     "output_type": "stream",
     "text": [
      "0\n",
      "1\n",
      "2\n",
      "3\n",
      "4\n",
      "5\n",
      "6\n",
      "7\n",
      "8\n",
      "9\n",
      "10\n",
      "11\n"
     ]
    }
   ],
   "source": [
    "for i in range(12):\n",
    "    print(i)\n",
    "    if i > 10:\n",
    "        break\n",
    "\n",
    "else:\n",
    "    print('break 못만남')"
   ]
  },
  {
   "cell_type": "code",
   "execution_count": 77,
   "id": "9a7ea7b3-9649-4201-b113-30e0a3887a52",
   "metadata": {},
   "outputs": [
    {
     "name": "stdout",
     "output_type": "stream",
     "text": [
      "True\n",
      "False\n"
     ]
    }
   ],
   "source": [
    "numbers = [1, 2, 3, 4, 5]\n",
    "print(1 in numbers)\n",
    "print(99 in numbers)"
   ]
  },
  {
   "cell_type": "code",
   "execution_count": 81,
   "id": "0f185fa6-5c36-4fa1-93f0-fbfb264d0273",
   "metadata": {},
   "outputs": [
    {
     "name": "stdout",
     "output_type": "stream",
     "text": [
      "[1, 2, 3, 4, 5]\n"
     ]
    }
   ],
   "source": [
    "numbers = [1, 2, 3, 4, 5]\n",
    "target = 1\n",
    "for n in range(20):\n",
    "    print(numbers)\n",
    "    if target == 1:\n",
    "        break\n",
    "\n",
    "else:\n",
    "    print('target를 만남')\n",
    "# numbers를 반복한다 target이 있으면 True 출력이 없으면 False출력"
   ]
  },
  {
   "cell_type": "code",
   "execution_count": 82,
   "id": "63b069df-b638-4864-8eb0-d1eb3a35ea29",
   "metadata": {},
   "outputs": [
    {
     "name": "stdout",
     "output_type": "stream",
     "text": [
      "True\n"
     ]
    }
   ],
   "source": [
    "numbers = [1, 2, 3, 4, 5]\n",
    "target = 1\n",
    "for number in numbers:\n",
    "    if number == target:\n",
    "        print('True')\n",
    "        break\n",
    "else:\n",
    "    print('False')"
   ]
  },
  {
   "cell_type": "markdown",
   "id": "74823bc0-a85a-4a64-b35b-9567492a8eee",
   "metadata": {},
   "source": [
    "### pass"
   ]
  },
  {
   "cell_type": "code",
   "execution_count": null,
   "id": "ff707dba-5990-4493-835c-fd02a17a8e9e",
   "metadata": {},
   "outputs": [],
   "source": [
    "if True:\n",
    "    pass"
   ]
  },
  {
   "cell_type": "code",
   "execution_count": 83,
   "id": "f353df6b-325d-4172-8067-4daafd3b7677",
   "metadata": {},
   "outputs": [],
   "source": [
    "def login():\n",
    "    pass\n",
    "\n",
    "def logout():\n",
    "    pass"
   ]
  },
  {
   "cell_type": "markdown",
   "id": "253e9bf1-7da4-4f93-9228-7eec71a61250",
   "metadata": {},
   "source": [
    "### match\n",
    "```python\n",
    "\n",
    "match value:\n",
    "    case 조건:\n",
    "        실행할 코드\n",
    "    case 조건:\n",
    "        실행할 코드\n",
    "    case _:\n",
    "        실행할 코드\n",
    "```"
   ]
  },
  {
   "cell_type": "code",
   "execution_count": null,
   "id": "ce046be7-b45c-4b2c-9fa0-039c1d80f1f9",
   "metadata": {},
   "outputs": [],
   "source": [
    "statis = 400\n",
    "\n",
    "match status:\n",
    "    case 400:\n",
    "        print('bed request')\n",
    "    case 404:\n",
    "        print('')\n",
    "    case "
   ]
  },
  {
   "cell_type": "code",
   "execution_count": null,
   "id": "76e8f6bc-82af-4799-b1aa-005a04c1f6d6",
   "metadata": {},
   "outputs": [],
   "source": []
  },
  {
   "cell_type": "code",
   "execution_count": null,
   "id": "7a230397-4ab8-4454-91ff-4dce9aec4a55",
   "metadata": {},
   "outputs": [],
   "source": []
  }
 ],
 "metadata": {
  "kernelspec": {
   "display_name": "Python 3 (ipykernel)",
   "language": "python",
   "name": "python3"
  },
  "language_info": {
   "codemirror_mode": {
    "name": "ipython",
    "version": 3
   },
   "file_extension": ".py",
   "mimetype": "text/x-python",
   "name": "python",
   "nbconvert_exporter": "python",
   "pygments_lexer": "ipython3",
   "version": "3.11.5"
  }
 },
 "nbformat": 4,
 "nbformat_minor": 5
}
