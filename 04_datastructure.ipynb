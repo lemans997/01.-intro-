{
 "cells": [
  {
   "cell_type": "code",
   "execution_count": 1,
   "id": "e68cf727-80a6-48a7-9912-012e71b64115",
   "metadata": {},
   "outputs": [
    {
     "name": "stdout",
     "output_type": "stream",
     "text": [
      "hello\n"
     ]
    }
   ],
   "source": [
    "print('hello')"
   ]
  },
  {
   "cell_type": "code",
   "execution_count": 2,
   "id": "0927a9cd-8f62-440d-945e-8810686999d1",
   "metadata": {},
   "outputs": [
    {
     "data": {
      "text/plain": [
       "'일이삼'"
      ]
     },
     "execution_count": 2,
     "metadata": {},
     "output_type": "execute_result"
    }
   ],
   "source": [
    "''.join(['일', '이', '삼'])"
   ]
  },
  {
   "cell_type": "code",
   "execution_count": 7,
   "id": "b91df2c7-2615-46c9-b3ce-ee29b5aba189",
   "metadata": {},
   "outputs": [
    {
     "data": {
      "text/plain": [
       "['__add__',\n",
       " '__class__',\n",
       " '__contains__',\n",
       " '__delattr__',\n",
       " '__dir__',\n",
       " '__doc__',\n",
       " '__eq__',\n",
       " '__format__',\n",
       " '__ge__',\n",
       " '__getattribute__',\n",
       " '__getitem__',\n",
       " '__getnewargs__',\n",
       " '__getstate__',\n",
       " '__gt__',\n",
       " '__hash__',\n",
       " '__init__',\n",
       " '__init_subclass__',\n",
       " '__iter__',\n",
       " '__le__',\n",
       " '__len__',\n",
       " '__lt__',\n",
       " '__mod__',\n",
       " '__mul__',\n",
       " '__ne__',\n",
       " '__new__',\n",
       " '__reduce__',\n",
       " '__reduce_ex__',\n",
       " '__repr__',\n",
       " '__rmod__',\n",
       " '__rmul__',\n",
       " '__setattr__',\n",
       " '__sizeof__',\n",
       " '__str__',\n",
       " '__subclasshook__',\n",
       " 'capitalize',\n",
       " 'casefold',\n",
       " 'center',\n",
       " 'count',\n",
       " 'encode',\n",
       " 'endswith',\n",
       " 'expandtabs',\n",
       " 'find',\n",
       " 'format',\n",
       " 'format_map',\n",
       " 'index',\n",
       " 'isalnum',\n",
       " 'isalpha',\n",
       " 'isascii',\n",
       " 'isdecimal',\n",
       " 'isdigit',\n",
       " 'isidentifier',\n",
       " 'islower',\n",
       " 'isnumeric',\n",
       " 'isprintable',\n",
       " 'isspace',\n",
       " 'istitle',\n",
       " 'isupper',\n",
       " 'join',\n",
       " 'ljust',\n",
       " 'lower',\n",
       " 'lstrip',\n",
       " 'maketrans',\n",
       " 'partition',\n",
       " 'removeprefix',\n",
       " 'removesuffix',\n",
       " 'replace',\n",
       " 'rfind',\n",
       " 'rindex',\n",
       " 'rjust',\n",
       " 'rpartition',\n",
       " 'rsplit',\n",
       " 'rstrip',\n",
       " 'split',\n",
       " 'splitlines',\n",
       " 'startswith',\n",
       " 'strip',\n",
       " 'swapcase',\n",
       " 'title',\n",
       " 'translate',\n",
       " 'upper',\n",
       " 'zfill']"
      ]
     },
     "execution_count": 7,
     "metadata": {},
     "output_type": "execute_result"
    }
   ],
   "source": [
    "dir('hello')"
   ]
  },
  {
   "cell_type": "markdown",
   "id": "3cf680cf-4046-49ee-bedf-f2013844588d",
   "metadata": {},
   "source": [
    "## 문자열 메소드"
   ]
  },
  {
   "cell_type": "code",
   "execution_count": 8,
   "id": "a06b2b67-bcb4-439b-94c6-c5773c250ddb",
   "metadata": {},
   "outputs": [],
   "source": [
    "a = 'hello my name is sang hyun'"
   ]
  },
  {
   "cell_type": "code",
   "execution_count": 9,
   "id": "ca6190de-99a2-4833-8525-739a7f7c7b7c",
   "metadata": {},
   "outputs": [
    {
     "name": "stdout",
     "output_type": "stream",
     "text": [
      "hello my name is sang hyun\n"
     ]
    }
   ],
   "source": [
    "print(a)"
   ]
  },
  {
   "cell_type": "code",
   "execution_count": 10,
   "id": "e422f8c4-4af7-4c16-bcd1-45b54a9c786a",
   "metadata": {},
   "outputs": [
    {
     "name": "stdout",
     "output_type": "stream",
     "text": [
      "h\n"
     ]
    }
   ],
   "source": [
    "print(a[0])"
   ]
  },
  {
   "cell_type": "code",
   "execution_count": 11,
   "id": "b601d64b-4baa-46b6-8a59-f130aa358dca",
   "metadata": {
    "scrolled": true
   },
   "outputs": [
    {
     "ename": "TypeError",
     "evalue": "'str' object does not support item assignment",
     "output_type": "error",
     "traceback": [
      "\u001b[1;31m---------------------------------------------------------------------------\u001b[0m",
      "\u001b[1;31mTypeError\u001b[0m                                 Traceback (most recent call last)",
      "Cell \u001b[1;32mIn[11], line 1\u001b[0m\n\u001b[1;32m----> 1\u001b[0m \u001b[43ma\u001b[49m\u001b[43m[\u001b[49m\u001b[38;5;241;43m0\u001b[39;49m\u001b[43m]\u001b[49m \u001b[38;5;241m=\u001b[39m \u001b[38;5;124m'\u001b[39m\u001b[38;5;124mH\u001b[39m\u001b[38;5;124m'\u001b[39m\n",
      "\u001b[1;31mTypeError\u001b[0m: 'str' object does not support item assignment"
     ]
    }
   ],
   "source": [
    "# 문자열은 immutoble하기 때문에 수정 불가능\n",
    "a[0] = 'H'"
   ]
  },
  {
   "cell_type": "code",
   "execution_count": 15,
   "id": "800e67e4-b3f0-4941-b464-697afde16bd2",
   "metadata": {},
   "outputs": [
    {
     "name": "stdout",
     "output_type": "stream",
     "text": [
      "Hello my name is sang hyun\n"
     ]
    }
   ],
   "source": [
    "a = a.capitalize()\n",
    "print(a)"
   ]
  },
  {
   "cell_type": "code",
   "execution_count": 16,
   "id": "407dda7d-1e01-426d-aa2e-7364727d148f",
   "metadata": {},
   "outputs": [
    {
     "data": {
      "text/plain": [
       "'Hello My Name Is Sang Hyun'"
      ]
     },
     "execution_count": 16,
     "metadata": {},
     "output_type": "execute_result"
    }
   ],
   "source": [
    "a.title()"
   ]
  },
  {
   "cell_type": "code",
   "execution_count": 17,
   "id": "57f3b5ac-397f-4a8a-9d39-f228818f00e9",
   "metadata": {},
   "outputs": [
    {
     "data": {
      "text/plain": [
       "'HELLO MY NAME IS SANG HYUN'"
      ]
     },
     "execution_count": 17,
     "metadata": {},
     "output_type": "execute_result"
    }
   ],
   "source": [
    "a.upper()"
   ]
  },
  {
   "cell_type": "code",
   "execution_count": 18,
   "id": "623c8df1-120e-41be-a27b-01e442cc93e7",
   "metadata": {},
   "outputs": [
    {
     "data": {
      "text/plain": [
       "'hello my name is sang hyun'"
      ]
     },
     "execution_count": 18,
     "metadata": {},
     "output_type": "execute_result"
    }
   ],
   "source": [
    "a.lower()"
   ]
  },
  {
   "cell_type": "code",
   "execution_count": 19,
   "id": "8a7afbbc-6d10-4000-8ec1-13e4c459f0ff",
   "metadata": {},
   "outputs": [
    {
     "name": "stdout",
     "output_type": "stream",
     "text": [
      "Hello my name is sang hyun\n"
     ]
    }
   ],
   "source": [
    "print(a)"
   ]
  },
  {
   "cell_type": "code",
   "execution_count": 21,
   "id": "ac8fd774-1768-441a-8809-7c671c0a3bf2",
   "metadata": {},
   "outputs": [
    {
     "data": {
      "text/plain": [
       "'hi??my??name'"
      ]
     },
     "execution_count": 21,
     "metadata": {},
     "output_type": "execute_result"
    }
   ],
   "source": [
    "my_list = ['hi', 'my', 'name']\n",
    "'??'.join(my_list)"
   ]
  },
  {
   "cell_type": "code",
   "execution_count": 27,
   "id": "9cde1242-6ed1-4682-a4b2-993e31a13a51",
   "metadata": {},
   "outputs": [
    {
     "name": "stdout",
     "output_type": "stream",
     "text": [
      "      hello     \n",
      "hello\n",
      "ello\n",
      "elloihihihihi\n",
      "hihihihihiihhihello\n"
     ]
    }
   ],
   "source": [
    "#  .strip([chors])\n",
    "\n",
    "my_string = '      hello     '\n",
    "print(my_string)\n",
    "print(my_string.strip())\n",
    "\n",
    "my_string2 = 'hihihihihiihhihelloihihihihi'\n",
    "print(my_string2.strip('hi'))\n",
    "print(my_string2.lstrip('hi'))\n",
    "print(my_string2.rstrip('hi'))"
   ]
  },
  {
   "cell_type": "code",
   "execution_count": 28,
   "id": "2b026fe3-64ed-499d-a135-e99bcd35461a",
   "metadata": {},
   "outputs": [
    {
     "data": {
      "text/plain": [
       "'w!!!ooooooow'"
      ]
     },
     "execution_count": 28,
     "metadata": {},
     "output_type": "execute_result"
    }
   ],
   "source": [
    "# .replace(old, new[, count])\n",
    "a = 'woooooooooow'\n",
    "a.replace('o', '!', 3)"
   ]
  },
  {
   "cell_type": "code",
   "execution_count": null,
   "id": "02e5adf8-9364-4592-8443-4a48c799ff6f",
   "metadata": {},
   "outputs": [],
   "source": [
    "# find(x)\n",
    "a = 'apple'\n",
    "print(a.find('p'))\n",
    "print(a.find('p'))\n",
    "print(a.find('z'))\n",
    "\n",
    "# for i in range(len(a)):\n",
    "    # if 'p' == a[i]:\n",
    "        # print(i)\n",
    "        # break\n",
    "\n",
    "# else:\n",
    "    # print(-1)"
   ]
  },
  {
   "cell_type": "code",
   "execution_count": 32,
   "id": "5374f82c-93f9-4cc8-9598-2657d4e41ad3",
   "metadata": {},
   "outputs": [
    {
     "name": "stdout",
     "output_type": "stream",
     "text": [
      "0\n"
     ]
    },
    {
     "ename": "ValueError",
     "evalue": "substring not found",
     "output_type": "error",
     "traceback": [
      "\u001b[1;31m---------------------------------------------------------------------------\u001b[0m",
      "\u001b[1;31mValueError\u001b[0m                                Traceback (most recent call last)",
      "Cell \u001b[1;32mIn[32], line 4\u001b[0m\n\u001b[0;32m      2\u001b[0m a \u001b[38;5;241m=\u001b[39m \u001b[38;5;124m'\u001b[39m\u001b[38;5;124mapple\u001b[39m\u001b[38;5;124m'\u001b[39m\n\u001b[0;32m      3\u001b[0m \u001b[38;5;28mprint\u001b[39m(a\u001b[38;5;241m.\u001b[39mindex(\u001b[38;5;124m'\u001b[39m\u001b[38;5;124ma\u001b[39m\u001b[38;5;124m'\u001b[39m))\n\u001b[1;32m----> 4\u001b[0m \u001b[38;5;28mprint\u001b[39m(\u001b[43ma\u001b[49m\u001b[38;5;241;43m.\u001b[39;49m\u001b[43mindex\u001b[49m\u001b[43m(\u001b[49m\u001b[38;5;124;43m'\u001b[39;49m\u001b[38;5;124;43mz\u001b[39;49m\u001b[38;5;124;43m'\u001b[39;49m\u001b[43m)\u001b[49m)\n",
      "\u001b[1;31mValueError\u001b[0m: substring not found"
     ]
    }
   ],
   "source": [
    "#.index(x)\n",
    "a = 'apple'\n",
    "print(a.index('a'))\n",
    "print(a.index('z'))"
   ]
  },
  {
   "cell_type": "code",
   "execution_count": 36,
   "id": "c650da46-aff9-47b6-b073-144239014d12",
   "metadata": {},
   "outputs": [
    {
     "data": {
      "text/plain": [
       "['my name is']"
      ]
     },
     "execution_count": 36,
     "metadata": {},
     "output_type": "execute_result"
    }
   ],
   "source": [
    "#.split(x)\n",
    "a = 'my name is'\n",
    "a.split('_')"
   ]
  },
  {
   "cell_type": "code",
   "execution_count": 37,
   "id": "5247eca5-3275-496f-b388-a1092cd1d9a4",
   "metadata": {},
   "outputs": [
    {
     "data": {
      "text/plain": [
       "8"
      ]
     },
     "execution_count": 37,
     "metadata": {},
     "output_type": "execute_result"
    }
   ],
   "source": [
    "# .count(x)\n",
    "'woooooooow'.count('o')"
   ]
  },
  {
   "cell_type": "markdown",
   "id": "050dc3f2-2c79-4c75-add7-9e1cd04d7d22",
   "metadata": {},
   "source": [
    "## 리스트 메소드"
   ]
  },
  {
   "cell_type": "code",
   "execution_count": 57,
   "id": "0ce9ac12-9b5a-4cb9-b754-b4512e7ec856",
   "metadata": {},
   "outputs": [],
   "source": [
    "numbers = [1, 3, 5, 7 ,2, 1]"
   ]
  },
  {
   "cell_type": "code",
   "execution_count": 58,
   "id": "e19bae64-cd33-4e34-b894-be55cfb9e34d",
   "metadata": {},
   "outputs": [
    {
     "name": "stdout",
     "output_type": "stream",
     "text": [
      "[1, 3, 5, 7, 2, 1, 10]\n"
     ]
    }
   ],
   "source": [
    "numbers.append(10)\n",
    "print(numbers)"
   ]
  },
  {
   "cell_type": "code",
   "execution_count": 45,
   "id": "20c61c33-7b28-4ea2-a59a-98ae18bbb941",
   "metadata": {},
   "outputs": [
    {
     "name": "stdout",
     "output_type": "stream",
     "text": [
      "[1, 3, 5, 7, 2, 1, 10, 99, 100, 99, 100]\n",
      "[1, 3, 5, 7, 2, 1, 10, 99, 100, 99, 100, 99, 100]\n"
     ]
    }
   ],
   "source": [
    "# .extend(iteroble)\n",
    "a = [99, 100]\n",
    "\n",
    "numbers.extend(a)\n",
    "print(numbers)\n",
    "print(numbers + a)"
   ]
  },
  {
   "cell_type": "code",
   "execution_count": 46,
   "id": "4fa43b7f-cb25-48e4-87ec-30b0e3059cd5",
   "metadata": {},
   "outputs": [
    {
     "name": "stdout",
     "output_type": "stream",
     "text": [
      "[1, 3, 5, 3.5, 7, 2, 1, 10, 99, 100, 99, 100]\n"
     ]
    }
   ],
   "source": [
    "# .insert(idx, x)\n",
    "numbers.insert(3, 3.5)\n",
    "print(numbers)"
   ]
  },
  {
   "cell_type": "code",
   "execution_count": 47,
   "id": "32832658-fcc9-413d-a462-cd4ff8886ff2",
   "metadata": {},
   "outputs": [
    {
     "name": "stdout",
     "output_type": "stream",
     "text": [
      "[1, 3, 5, 7, 2, 1, 10, 99, 100, 99, 100]\n"
     ]
    }
   ],
   "source": [
    "#.remove(x)\n",
    "numbers.remove(3.5)\n",
    "print(numbers)"
   ]
  },
  {
   "cell_type": "code",
   "execution_count": 52,
   "id": "67c72fb5-eaf9-47fd-91f0-439a01002314",
   "metadata": {},
   "outputs": [
    {
     "name": "stdout",
     "output_type": "stream",
     "text": [
      "[5, 7, 2, 1]\n",
      "[7, 2, 1]\n",
      "[7, 2]\n"
     ]
    }
   ],
   "source": [
    "#.pop()\n",
    "numbers.pop()\n",
    "print(numbers)\n",
    "\n",
    "numbers.pop(0)\n",
    "print(numbers)\n",
    "\n",
    "numbers.pop()\n",
    "print(numbers)"
   ]
  },
  {
   "cell_type": "code",
   "execution_count": 53,
   "id": "de9e047b-75ef-4d5b-a05c-b8392ae2a8fd",
   "metadata": {},
   "outputs": [
    {
     "name": "stdout",
     "output_type": "stream",
     "text": [
      "2\n"
     ]
    }
   ],
   "source": [
    "num = numbers.pop()\n",
    "print(num)"
   ]
  },
  {
   "cell_type": "code",
   "execution_count": 64,
   "id": "024f154f-1964-4edf-ae32-1d4a4dfd4279",
   "metadata": {},
   "outputs": [
    {
     "name": "stdout",
     "output_type": "stream",
     "text": [
      "[1, 4, 5, 6, 1, 3, 5, 10]\n",
      "None\n",
      "[1, 1, 3, 4, 5, 5, 6, 10]\n",
      "[10, 6, 5, 5, 4, 3, 1, 1]\n"
     ]
    }
   ],
   "source": [
    "# ,sort()\n",
    "numbers = [1, 4, 5, 6, 1, 3, 5, 10]\n",
    "print(numbers)\n",
    "\n",
    "print(numbers.sort())\n",
    "\n",
    "print(numbers)\n",
    "numbers.sort(reverse=True)\n",
    "print(numbers)"
   ]
  },
  {
   "cell_type": "code",
   "execution_count": 65,
   "id": "cff4d654-fe51-485e-b27b-f2b75ef6478c",
   "metadata": {},
   "outputs": [
    {
     "data": {
      "text/plain": [
       "[1, 1, 3, 4, 5, 5, 6, 10]"
      ]
     },
     "execution_count": 65,
     "metadata": {},
     "output_type": "execute_result"
    }
   ],
   "source": [
    "numbers = [1, 4, 5, 6, 1, 3, 5, 10]\n",
    "sorted(numbers)"
   ]
  },
  {
   "cell_type": "code",
   "execution_count": 68,
   "id": "60cffe82-8891-4206-b9a6-6c8a628109ce",
   "metadata": {},
   "outputs": [
    {
     "name": "stdout",
     "output_type": "stream",
     "text": [
      "[1, 4, 5, 6, 1, 3, 5, 10]\n",
      "[10, 5, 3, 1, 6, 5, 4, 1]\n",
      "[1, 4, 5, 6, 1, 3, 5, 10]\n"
     ]
    }
   ],
   "source": [
    "# .reverse()\n",
    "numbers = [1, 4, 5, 6, 1, 3, 5, 10]\n",
    "print(numbers)\n",
    "numbers.reverse()\n",
    "print(numbers)\n",
    "numbers = numbers[ : : -1 ]\n",
    "print(numbers)"
   ]
  },
  {
   "cell_type": "code",
   "execution_count": null,
   "id": "cb170ec4-ef09-4aba-8b05-8c75ea148cb1",
   "metadata": {},
   "outputs": [],
   "source": []
  },
  {
   "cell_type": "code",
   "execution_count": 69,
   "id": "7ba8cc0f-d2ca-4e79-94a4-876383e83b52",
   "metadata": {},
   "outputs": [],
   "source": [
    "origin_list = [1, 2, 3]\n",
    "copy_list = origin_list"
   ]
  },
  {
   "cell_type": "code",
   "execution_count": 70,
   "id": "74b56a5b-5a82-4e5b-86ad-38c87ba97f23",
   "metadata": {},
   "outputs": [
    {
     "name": "stdout",
     "output_type": "stream",
     "text": [
      "[1, 2, 3]\n",
      "[1, 2, 3]\n"
     ]
    }
   ],
   "source": [
    "print(origin_list)\n",
    "print(copy_list)"
   ]
  },
  {
   "cell_type": "code",
   "execution_count": 71,
   "id": "d5d81053-0a6c-4bc5-aa0d-07e251515261",
   "metadata": {},
   "outputs": [],
   "source": [
    "copy_list[0] = 100"
   ]
  },
  {
   "cell_type": "code",
   "execution_count": null,
   "id": "16b446a8-816b-4ac6-8610-db3b38360935",
   "metadata": {},
   "outputs": [],
   "source": [
    "print(origin_list)\n",
    "print(copy_list)\n"
   ]
  },
  {
   "cell_type": "code",
   "execution_count": null,
   "id": "819ed9f1-cde6-49f6-a2b9-3809a2f827b6",
   "metadata": {},
   "outputs": [],
   "source": []
  },
  {
   "cell_type": "code",
   "execution_count": 72,
   "id": "0fe924a3-1c89-4c42-824e-41a1e5b8a939",
   "metadata": {},
   "outputs": [
    {
     "name": "stdout",
     "output_type": "stream",
     "text": [
      "[1, 2, 3]\n",
      "[100, 2, 3]\n"
     ]
    }
   ],
   "source": [
    "a = [1, 2, 3]\n",
    "# b = list(a)\n",
    "b = a[:]\n",
    "\n",
    "b[0] = 100\n",
    "\n",
    "print(a)\n",
    "print(b)"
   ]
  },
  {
   "cell_type": "code",
   "execution_count": 73,
   "id": "4d9eab2d-64e0-4828-ae22-5abe857a1e1c",
   "metadata": {},
   "outputs": [
    {
     "name": "stdout",
     "output_type": "stream",
     "text": [
      "[1, 2, [99, 1000]]\n",
      "[1, 2, [99, 1000]]\n"
     ]
    }
   ],
   "source": [
    "a = [    1,     2,    [99, 100]      ]\n",
    "b = a[:]\n",
    "# b = list(a)\n",
    "\n",
    "b[2][1] = 1000\n",
    "\n",
    "print(a)\n",
    "print(b)"
   ]
  },
  {
   "cell_type": "code",
   "execution_count": 74,
   "id": "272340fe-2826-4fd7-bfae-5a943c28f3bb",
   "metadata": {},
   "outputs": [
    {
     "name": "stdout",
     "output_type": "stream",
     "text": [
      "[1, 2, [99, 100]]\n",
      "[1, 2, [99, 1000]]\n"
     ]
    }
   ],
   "source": [
    "import copy\n",
    "a = [1, 2, [99, 100]]\n",
    "b = copy.deepcopy(a)\n",
    "\n",
    "b[2][1] = 1000\n",
    "\n",
    "print(a)\n",
    "print(b)"
   ]
  },
  {
   "cell_type": "markdown",
   "id": "74028415-a619-4078-8f9d-52b00f30a95f",
   "metadata": {},
   "source": [
    "## list comprehension"
   ]
  },
  {
   "cell_type": "code",
   "execution_count": 76,
   "id": "360ca573-e6a6-4ef6-90eb-c05d3d9a4b68",
   "metadata": {},
   "outputs": [
    {
     "name": "stdout",
     "output_type": "stream",
     "text": [
      "[1, 2, 3, 4, 5, 6, 7, 8, 9, 10]\n"
     ]
    }
   ],
   "source": [
    "numbers = list(range(1, 11))\n",
    "print(numbers)"
   ]
  },
  {
   "cell_type": "code",
   "execution_count": 77,
   "id": "42669c8d-1717-40dd-9901-e5a857f4525c",
   "metadata": {},
   "outputs": [
    {
     "name": "stdout",
     "output_type": "stream",
     "text": [
      "[1, 8, 27, 64, 125, 216, 343, 512, 729, 1000]\n"
     ]
    }
   ],
   "source": [
    "# [1, 8, 27...1000] => 세제곱 만들기\n",
    "result = []\n",
    "\n",
    "for number in numbers:\n",
    "    result.append(number **3)\n",
    "print(result)"
   ]
  },
  {
   "cell_type": "code",
   "execution_count": 78,
   "id": "068869b8-2b13-4edf-b926-41f3e504f2eb",
   "metadata": {},
   "outputs": [
    {
     "name": "stdout",
     "output_type": "stream",
     "text": [
      "[1, 8, 27, 64, 125, 216, 343, 512, 729, 1000]\n"
     ]
    }
   ],
   "source": [
    "result2 = [ number **3 for number in numbers ]\n",
    "print(result2)"
   ]
  },
  {
   "cell_type": "code",
   "execution_count": 79,
   "id": "e12f9dd1-2319-4930-8056-a76b5ec738d7",
   "metadata": {},
   "outputs": [
    {
     "name": "stdout",
     "output_type": "stream",
     "text": [
      "[2, 4, 6, 8, 10]\n"
     ]
    }
   ],
   "source": [
    "# 짝수만 고르기\n",
    "even_list = []\n",
    "for number in numbers:\n",
    "    if number % 2 ==0:\n",
    "        even_list.append(number)\n",
    "\n",
    "print(even_list)"
   ]
  },
  {
   "cell_type": "code",
   "execution_count": 80,
   "id": "748a3ab5-4e36-4a82-8ba9-417113acdfb2",
   "metadata": {},
   "outputs": [
    {
     "name": "stdout",
     "output_type": "stream",
     "text": [
      "[2, 4, 6, 8, 10]\n"
     ]
    }
   ],
   "source": [
    "# 짝수만 고르기(list comprehension)\n",
    "even_list2 = [number for number in numbers if number % 2 ==0 ]\n",
    "print(even_list2)"
   ]
  },
  {
   "cell_type": "code",
   "execution_count": 83,
   "id": "8949909d-27ad-4fe2-bcc3-ebd21969fb5c",
   "metadata": {},
   "outputs": [],
   "source": [
    "words = 'my name is lee'\n",
    "vowels = 'aeiou'\n",
    "\n",
    "# => my nm lee"
   ]
  },
  {
   "cell_type": "code",
   "execution_count": 85,
   "id": "010cbfb3-83a3-43f9-9b5a-6b09b05aedda",
   "metadata": {},
   "outputs": [
    {
     "name": "stdout",
     "output_type": "stream",
     "text": [
      "['m', 'y', ' ', 'n', 'm', ' ', 's', ' ', 'l']\n",
      "my nm s l\n"
     ]
    }
   ],
   "source": [
    "# 1.for문\n",
    "result = []\n",
    "for char in words:\n",
    "    if char not in vowels:\n",
    "        result.append(char)\n",
    "\n",
    "print(result)\n",
    "print(''.join(result))"
   ]
  },
  {
   "cell_type": "code",
   "execution_count": 86,
   "id": "85f0f177-fb86-4636-a607-6cd148edd6d1",
   "metadata": {},
   "outputs": [
    {
     "name": "stdout",
     "output_type": "stream",
     "text": [
      "['m', 'y', ' ', 'n', 'm', ' ', 's', ' ', 'l']\n",
      "my nm s l\n"
     ]
    }
   ],
   "source": [
    "#2.list comprehension\n",
    "result = [char for char in words if char not in vowels]\n",
    "print(result)\n",
    "print(''.join(result))"
   ]
  },
  {
   "cell_type": "code",
   "execution_count": 90,
   "id": "b61c23d3-c0d7-4274-881a-5163bfb02f71",
   "metadata": {},
   "outputs": [
    {
     "name": "stdout",
     "output_type": "stream",
     "text": [
      "my nm s l\n"
     ]
    }
   ],
   "source": [
    "words = 'my name is lee'\n",
    "vowels = 'aeiou'\n",
    "\n",
    "# words_list = list(words)\n",
    "# vowels_list = list(vowels)\n",
    "# print(words_list)\n",
    "# print(vowels_list)\n",
    "\n",
    "for vowel in vowels:\n",
    "    words = words.replace(vowel, '')\n",
    "\n",
    "print(words)"
   ]
  },
  {
   "cell_type": "code",
   "execution_count": 92,
   "id": "ac120331-2106-421a-b558-b4feae1bcbaf",
   "metadata": {},
   "outputs": [
    {
     "name": "stdout",
     "output_type": "stream",
     "text": [
      "['M', 'N', 'L']\n",
      "MNL\n"
     ]
    }
   ],
   "source": [
    "words = 'My Name Is Lee'\n",
    "vowels = 'aeiouAEIOU'\n",
    "\n",
    "result = [char for char in words if char not in vowels if char.isupper()]\n",
    "print(result)\n",
    "print(''.join(result))"
   ]
  },
  {
   "cell_type": "markdown",
   "id": "f74f69ea-a8a6-4e6e-8e71-d138b77d967e",
   "metadata": {},
   "source": [
    "## 딕셔너리 메소리"
   ]
  },
  {
   "cell_type": "code",
   "execution_count": 105,
   "id": "b74f3d4c-0140-4902-b1d5-2921db0bd2a5",
   "metadata": {},
   "outputs": [],
   "source": [
    "info = {\n",
    "    'name': 'sanghyun',\n",
    "    'location' : 'seoul',\n",
    "}"
   ]
  },
  {
   "cell_type": "code",
   "execution_count": 106,
   "id": "2ebeb4fb-b013-4bcc-a420-adfa9a00c09d",
   "metadata": {},
   "outputs": [
    {
     "name": "stdout",
     "output_type": "stream",
     "text": [
      "{'name': 'lee', 'location': 'seoul'}\n"
     ]
    }
   ],
   "source": [
    "info['name'] = 'lee'\n",
    "print(info)"
   ]
  },
  {
   "cell_type": "code",
   "execution_count": 107,
   "id": "5b959f76-f5d7-4122-8287-439a8ea5eaa8",
   "metadata": {},
   "outputs": [
    {
     "name": "stdout",
     "output_type": "stream",
     "text": [
      "{'name': 'lee', 'location': 'seoul'}\n",
      "seoul\n",
      "{'name': 'lee'}\n",
      "None\n"
     ]
    }
   ],
   "source": [
    "# .pop(key[, defoult])\n",
    "print(info)\n",
    "print(info.pop('location'))\n",
    "\n",
    "print(info)\n",
    "print(info.pop('location', None))\n"
   ]
  },
  {
   "cell_type": "code",
   "execution_count": 110,
   "id": "632f9b2a-a246-49cc-a8a1-e0de5093da3d",
   "metadata": {},
   "outputs": [
    {
     "name": "stdout",
     "output_type": "stream",
     "text": [
      "{'name': 'kim'}\n"
     ]
    }
   ],
   "source": [
    "# .update(key=value)\n",
    "info.update(name='kim')\n",
    "print(info)"
   ]
  },
  {
   "cell_type": "code",
   "execution_count": 111,
   "id": "836cc9ca-84d5-4879-8c81-cf29d76d901f",
   "metadata": {},
   "outputs": [
    {
     "name": "stdout",
     "output_type": "stream",
     "text": [
      "kim\n",
      "None\n",
      "해당키가 없습니다\n"
     ]
    }
   ],
   "source": [
    "# .get(key[, defalut])\n",
    "print(info.get('name'))\n",
    "print(info.get('phone'))\n",
    "print(info.get('phone', '해당키가 없습니다'))"
   ]
  },
  {
   "cell_type": "markdown",
   "id": "6c47cfb9-707c-4d4f-b362-8d7146625f28",
   "metadata": {},
   "source": [
    "## dit comprehension"
   ]
  },
  {
   "cell_type": "code",
   "execution_count": 112,
   "id": "ccf5a751-a895-45b7-a5ed-c702d0bcf005",
   "metadata": {},
   "outputs": [
    {
     "name": "stdout",
     "output_type": "stream",
     "text": [
      "{1: 1, 2: 8, 3: 27, 4: 64, 5: 125, 6: 216, 7: 343, 8: 512, 9: 729, 10: 1000}\n"
     ]
    }
   ],
   "source": [
    "# for\n",
    "# {1: 1, 2: 8, 3: 9...}\n",
    "result = {}\n",
    "numbers = range(1, 11)\n",
    "for number in numbers:\n",
    "    result[number] = number ** 3\n",
    "\n",
    "print(result)"
   ]
  },
  {
   "cell_type": "code",
   "execution_count": 115,
   "id": "e7ff9145-37c1-4863-b982-808bada6f340",
   "metadata": {},
   "outputs": [
    {
     "name": "stdout",
     "output_type": "stream",
     "text": [
      "{1: 1, 2: 8, 3: 27, 4: 64, 5: 125, 6: 216, 7: 343, 8: 512, 9: 729, 10: 1000}\n"
     ]
    }
   ],
   "source": [
    "# comp\n",
    "result2 =  { number : number ** 3 for number in range(1, 11)}\n",
    "print(result2)"
   ]
  },
  {
   "cell_type": "code",
   "execution_count": 116,
   "id": "1c430d13-700c-4dad-8722-e7d66f718875",
   "metadata": {},
   "outputs": [],
   "source": [
    "# \n",
    "dust = {\n",
    "    '서울' : 100,\n",
    "    '대구' : 30,\n",
    "    '부산' : 50,\n",
    "    '광주' : 80,\n",
    "    '제주' : 20,\n",
    "}\n",
    "# result = {\n",
    "#     '서울' : 100,\n",
    "#     '부산' : 50,\n",
    "#     '광주' : 80,\n",
    "# }"
   ]
  },
  {
   "cell_type": "code",
   "execution_count": 120,
   "id": "07869a1d-589d-44d6-a5a1-3778bd3484a7",
   "metadata": {},
   "outputs": [
    {
     "name": "stdout",
     "output_type": "stream",
     "text": [
      "{'서울': 100, '부산': 50, '광주': 80}\n"
     ]
    }
   ],
   "source": [
    "# 1.for\n",
    "result = {}\n",
    "for k, v in dust.items():\n",
    "    if v >= 50:\n",
    "        result[k] = v\n",
    "\n",
    "print(result)"
   ]
  },
  {
   "cell_type": "code",
   "execution_count": 121,
   "id": "c1725a52-d388-4e10-b859-06fa7cff504c",
   "metadata": {},
   "outputs": [
    {
     "name": "stdout",
     "output_type": "stream",
     "text": [
      "{'서울': 100, '부산': 50, '광주': 80}\n"
     ]
    }
   ],
   "source": [
    "# 2.comp\n",
    "result2 = { k : v for k, v in dust.items() if v >= 50}\n",
    "print(result2)"
   ]
  },
  {
   "cell_type": "markdown",
   "id": "ab2c13b3-d338-4667-a20a-4bad04475c31",
   "metadata": {},
   "source": [
    "## 세트 메소드"
   ]
  },
  {
   "cell_type": "code",
   "execution_count": 131,
   "id": "5c247672-fec5-4388-9d25-22398f79ea2d",
   "metadata": {},
   "outputs": [],
   "source": [
    "fruits = {'apple', 'banana', 'melon'}"
   ]
  },
  {
   "cell_type": "code",
   "execution_count": 132,
   "id": "d3e77d0b-49f1-4054-9ee0-72b8e9e46aa6",
   "metadata": {},
   "outputs": [
    {
     "name": "stdout",
     "output_type": "stream",
     "text": [
      "{'banana', 'watermelon', 'melon', 'apple'}\n",
      "{'banana', 'watermelon', 'melon', 'apple'}\n"
     ]
    }
   ],
   "source": [
    "# .add(x)\n",
    "fruite.add('watermelon')\n",
    "print(fruite)\n",
    "fruite.add('watermelon')\n",
    "print(fruite)"
   ]
  },
  {
   "cell_type": "code",
   "execution_count": 133,
   "id": "483e3db0-0a17-4318-b9eb-20ee18b3eb68",
   "metadata": {},
   "outputs": [
    {
     "ename": "AttributeError",
     "evalue": "'set' object has no attribute 'updata'",
     "output_type": "error",
     "traceback": [
      "\u001b[1;31m---------------------------------------------------------------------------\u001b[0m",
      "\u001b[1;31mAttributeError\u001b[0m                            Traceback (most recent call last)",
      "Cell \u001b[1;32mIn[133], line 4\u001b[0m\n\u001b[0;32m      1\u001b[0m \u001b[38;5;66;03m# .updata()\u001b[39;00m\n\u001b[0;32m      2\u001b[0m \u001b[38;5;66;03m# fruits.updata('grepe')\u001b[39;00m\n\u001b[0;32m      3\u001b[0m \u001b[38;5;66;03m# print(fruits)\u001b[39;00m\n\u001b[1;32m----> 4\u001b[0m \u001b[43mfruits\u001b[49m\u001b[38;5;241;43m.\u001b[39;49m\u001b[43mupdata\u001b[49m({\u001b[38;5;124m'\u001b[39m\u001b[38;5;124mgrepe\u001b[39m\u001b[38;5;124m'\u001b[39m, \u001b[38;5;124m'\u001b[39m\u001b[38;5;124morage\u001b[39m\u001b[38;5;124m'\u001b[39m})\n\u001b[0;32m      5\u001b[0m \u001b[38;5;28mprint\u001b[39m(fruits)\n",
      "\u001b[1;31mAttributeError\u001b[0m: 'set' object has no attribute 'updata'"
     ]
    }
   ],
   "source": [
    "# .updata()\n",
    "# fruits.updata('grepe')\n",
    "# print(fruits)\n",
    "fruits.updata({'grepe', 'orange'})\n",
    "print(fruits)\n"
   ]
  },
  {
   "cell_type": "code",
   "execution_count": 135,
   "id": "1f541921-2bb0-479e-a199-8a5c3aeedadd",
   "metadata": {},
   "outputs": [
    {
     "ename": "KeyError",
     "evalue": "'orage'",
     "output_type": "error",
     "traceback": [
      "\u001b[1;31m---------------------------------------------------------------------------\u001b[0m",
      "\u001b[1;31mKeyError\u001b[0m                                  Traceback (most recent call last)",
      "Cell \u001b[1;32mIn[135], line 2\u001b[0m\n\u001b[0;32m      1\u001b[0m \u001b[38;5;66;03m# remove(x)\u001b[39;00m\n\u001b[1;32m----> 2\u001b[0m \u001b[43mfruits\u001b[49m\u001b[38;5;241;43m.\u001b[39;49m\u001b[43mremove\u001b[49m\u001b[43m(\u001b[49m\u001b[38;5;124;43m'\u001b[39;49m\u001b[38;5;124;43morage\u001b[39;49m\u001b[38;5;124;43m'\u001b[39;49m\u001b[43m)\u001b[49m\n\u001b[0;32m      3\u001b[0m \u001b[38;5;28mprint\u001b[39m(fruits)\n",
      "\u001b[1;31mKeyError\u001b[0m: 'orage'"
     ]
    }
   ],
   "source": [
    "# remove(x)\n",
    "fruits.remove('orange')\n",
    "print(fruits)"
   ]
  },
  {
   "cell_type": "code",
   "execution_count": 136,
   "id": "c170e426-cfbf-4589-bf44-ed550d4cf57e",
   "metadata": {},
   "outputs": [
    {
     "name": "stdout",
     "output_type": "stream",
     "text": [
      "{'melon', 'apple'}\n"
     ]
    }
   ],
   "source": [
    "# pop()\n",
    "fruits.pop()\n",
    "print(fruits)"
   ]
  },
  {
   "cell_type": "markdown",
   "id": "30ee3bd3-8365-4679-a4bf-74b46706c61f",
   "metadata": {},
   "source": [
    "## map, filter,zip"
   ]
  },
  {
   "cell_type": "markdown",
   "id": "a4558fa4-eac7-485e-b3e4-bbaf1e92c594",
   "metadata": {},
   "source": [
    "- map(fucntion, iter)"
   ]
  },
  {
   "cell_type": "code",
   "execution_count": null,
   "id": "094563f0-1d06-455c-b7fc-61433582ff4f",
   "metadata": {},
   "outputs": [],
   "source": []
  },
  {
   "cell_type": "code",
   "execution_count": 137,
   "id": "042d29c1-6577-4d80-8830-a9fb541f9bd0",
   "metadata": {},
   "outputs": [
    {
     "name": "stdout",
     "output_type": "stream",
     "text": [
      "<map object at 0x0000028901F82DD0>\n",
      "['1', '2', '3']\n"
     ]
    }
   ],
   "source": [
    "a = [1, 2, 3]\n",
    "number_str = map(str, a)\n",
    "print(number_str)\n",
    "print(list(number_str))"
   ]
  },
  {
   "cell_type": "code",
   "execution_count": 139,
   "id": "047bd719-b981-4bfa-88bf-fa7df1f4b7a6",
   "metadata": {},
   "outputs": [
    {
     "name": "stdout",
     "output_type": "stream",
     "text": [
      "[1, 8, 27]\n"
     ]
    }
   ],
   "source": [
    "result = []\n",
    "for i in a:\n",
    "    result.append(i ** 3)\n",
    "\n",
    "print(result)"
   ]
  },
  {
   "cell_type": "code",
   "execution_count": 138,
   "id": "597b6556-ef6f-49f8-8c2d-1af201bc6d3e",
   "metadata": {},
   "outputs": [
    {
     "name": "stdout",
     "output_type": "stream",
     "text": [
      "125\n",
      "1000\n"
     ]
    }
   ],
   "source": [
    "def cube(x):\n",
    "    return x ** 3\n",
    "\n",
    "print(cube(5))\n",
    "print(cube(10))\n"
   ]
  },
  {
   "cell_type": "code",
   "execution_count": 143,
   "id": "6a2c9720-c20e-4e10-9547-09ee955f92fb",
   "metadata": {},
   "outputs": [
    {
     "name": "stdout",
     "output_type": "stream",
     "text": [
      "[1, 8, 27]\n"
     ]
    }
   ],
   "source": [
    "result2 = map(cube, a)\n",
    "print(list(result2))"
   ]
  },
  {
   "cell_type": "code",
   "execution_count": 145,
   "id": "22067a9f-6add-4faf-9117-979b22fe7e48",
   "metadata": {},
   "outputs": [
    {
     "name": "stdout",
     "output_type": "stream",
     "text": [
      "[1, 3, 5, 7, 9]\n"
     ]
    }
   ],
   "source": [
    "a = '1 3 5 7 9'\n",
    "# numbers = [1, 3, 5, 7, 9]\n",
    "numbers = list(map(int, a.split()))\n",
    "print(numbers)"
   ]
  },
  {
   "cell_type": "code",
   "execution_count": null,
   "id": "21c0f15d-100d-49ab-8beb-23df13e9eed2",
   "metadata": {},
   "outputs": [],
   "source": []
  },
  {
   "cell_type": "markdown",
   "id": "363067f8-3803-403a-80f4-0f17b5f510fd",
   "metadata": {},
   "source": [
    "- filter(function, iterable)\n",
    "      - filter에 들어가는 function은 T/F를 반환해야 합니다"
   ]
  },
  {
   "cell_type": "code",
   "execution_count": 151,
   "id": "df1b6811-b3d7-49bf-bb9b-b0743e53d742",
   "metadata": {},
   "outputs": [
    {
     "name": "stdout",
     "output_type": "stream",
     "text": [
      "True\n",
      "False\n"
     ]
    }
   ],
   "source": [
    "def is_odd(x):\n",
    "    if x % 2 == 1:\n",
    "        return True\n",
    "    else:\n",
    "        return False\n",
    "\n",
    "    return bol(x % 2)\n",
    "\n",
    "print(is_odd(5))\n",
    "print(is_odd(10))"
   ]
  },
  {
   "cell_type": "code",
   "execution_count": 152,
   "id": "dd657e8b-5b4c-46b4-b88e-926d5882ed20",
   "metadata": {},
   "outputs": [],
   "source": [
    "numbers = [1, 2, 3, 4, 5]"
   ]
  },
  {
   "cell_type": "code",
   "execution_count": 153,
   "id": "f572fd28-2a23-49ab-8911-bfa1fb30b157",
   "metadata": {},
   "outputs": [
    {
     "name": "stdout",
     "output_type": "stream",
     "text": [
      "[1, 3, 5]\n"
     ]
    }
   ],
   "source": [
    "# for\n",
    "result = []\n",
    "for number in numbers:\n",
    "    if is_odd(number):\n",
    "        result.append(number)\n",
    "\n",
    "print(result)"
   ]
  },
  {
   "cell_type": "code",
   "execution_count": 154,
   "id": "0c9fa7b1-bf84-4279-b935-2e64172887ef",
   "metadata": {},
   "outputs": [
    {
     "name": "stdout",
     "output_type": "stream",
     "text": [
      "[1, 3, 5]\n"
     ]
    }
   ],
   "source": [
    "result2 = filter(is_odd, numbers)\n",
    "print(list(result))"
   ]
  },
  {
   "cell_type": "markdown",
   "id": "f11efec2-7454-4a7b-a8df-049909775b74",
   "metadata": {},
   "source": [
    "- zip"
   ]
  },
  {
   "cell_type": "code",
   "execution_count": 155,
   "id": "4c9d14d7-518e-4153-b72f-8cc2f1d50ff9",
   "metadata": {},
   "outputs": [],
   "source": [
    "a = [1, 2, 3]\n",
    "b = [100, 200, 300]"
   ]
  },
  {
   "cell_type": "code",
   "execution_count": 156,
   "id": "5ebc7f69-ae71-4b16-9acd-ac375a921e71",
   "metadata": {},
   "outputs": [
    {
     "name": "stdout",
     "output_type": "stream",
     "text": [
      "<zip object at 0x0000028901A1AB40>\n",
      "[(1, 100), (2, 200), (3, 300)]\n"
     ]
    }
   ],
   "source": [
    "result = zip(a, b)\n",
    "print(result)\n",
    "print(list(result))"
   ]
  },
  {
   "cell_type": "code",
   "execution_count": null,
   "id": "a6cfbf36-4f6c-425f-ab3f-b4014a133949",
   "metadata": {},
   "outputs": [],
   "source": []
  },
  {
   "cell_type": "code",
   "execution_count": null,
   "id": "7be80474-136d-4300-a4c1-257280bb76dc",
   "metadata": {},
   "outputs": [],
   "source": []
  },
  {
   "cell_type": "code",
   "execution_count": null,
   "id": "09a196a9-3135-4a19-a0c3-b66bad779e57",
   "metadata": {},
   "outputs": [],
   "source": []
  }
 ],
 "metadata": {
  "kernelspec": {
   "display_name": "Python 3 (ipykernel)",
   "language": "python",
   "name": "python3"
  },
  "language_info": {
   "codemirror_mode": {
    "name": "ipython",
    "version": 3
   },
   "file_extension": ".py",
   "mimetype": "text/x-python",
   "name": "python",
   "nbconvert_exporter": "python",
   "pygments_lexer": "ipython3",
   "version": "3.11.5"
  }
 },
 "nbformat": 4,
 "nbformat_minor": 5
}
