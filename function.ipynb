{
 "cells": [
  {
   "cell_type": "markdown",
   "id": "7deb8af2-e1c3-47c9-819d-b5e5088c90c3",
   "metadata": {},
   "source": [
    "### 함수(function)"
   ]
  },
  {
   "cell_type": "code",
   "execution_count": 7,
   "id": "ef45b815-5b7d-488c-9813-31c184614587",
   "metadata": {},
   "outputs": [
    {
     "name": "stdout",
     "output_type": "stream",
     "text": [
      "직사각형의 면적은 200, 둘레는 60입니다.\n"
     ]
    }
   ],
   "source": [
    "height = 10\n",
    "width =20\n",
    "\n",
    "height2 = 50\n",
    "width2 = 100\n",
    "\n",
    "area = height * width\n",
    "perimeter = (height + width) * 2\n",
    "print(f'직사각형의 면적은 {area}, 둘레는 {perimeter}입니다.')\n",
    "\n",
    "area2 = height2 * width2"
   ]
  },
  {
   "cell_type": "code",
   "execution_count": null,
   "id": "47528848-4d79-40e4-aac0-44bb0fb4c74f",
   "metadata": {},
   "outputs": [],
   "source": []
  },
  {
   "cell_type": "markdown",
   "id": "46297945-f870-4f2e-bbac-935573d25c5f",
   "metadata": {},
   "source": [
    "### 함수의 선언과 호출\n",
    "\n",
    "- 함수의 선언\n",
    "```python\n",
    "\n",
    "    def func_name(parameter1, parmeter2):\n",
    "        code1\n",
    "        code2\n",
    "        ...\n",
    "        return value\n",
    "\n",
    "```\n",
    "- 함수의 호출(실행)\n",
    "\n",
    "```python\n",
    "\n",
    "    func_name(parameter1, parmeter2)"
   ]
  },
  {
   "cell_type": "code",
   "execution_count": 3,
   "id": "526e0555-b369-4219-9ee5-8dd63936631c",
   "metadata": {},
   "outputs": [],
   "source": [
    "def rectangle(heigt, width):\n",
    "    area = heigt * width\n",
    "    perimeter = (heigt + width) * 2\n",
    "    print(area, perimeter)"
   ]
  },
  {
   "cell_type": "code",
   "execution_count": 4,
   "id": "91912321-59ae-47dc-b492-d254c5c89fb1",
   "metadata": {},
   "outputs": [
    {
     "name": "stdout",
     "output_type": "stream",
     "text": [
      "5000 300\n",
      "200 60\n",
      "2700 240\n"
     ]
    }
   ],
   "source": [
    "rectangle(100, 50)\n",
    "rectangle(10, 20)\n",
    "rectangle(30, 90)"
   ]
  },
  {
   "cell_type": "code",
   "execution_count": 5,
   "id": "ecf44762-6864-473c-a524-a9d490361123",
   "metadata": {},
   "outputs": [
    {
     "data": {
      "text/plain": [
       "['ArithmeticError',\n",
       " 'AssertionError',\n",
       " 'AttributeError',\n",
       " 'BaseException',\n",
       " 'BaseExceptionGroup',\n",
       " 'BlockingIOError',\n",
       " 'BrokenPipeError',\n",
       " 'BufferError',\n",
       " 'BytesWarning',\n",
       " 'ChildProcessError',\n",
       " 'ConnectionAbortedError',\n",
       " 'ConnectionError',\n",
       " 'ConnectionRefusedError',\n",
       " 'ConnectionResetError',\n",
       " 'DeprecationWarning',\n",
       " 'EOFError',\n",
       " 'Ellipsis',\n",
       " 'EncodingWarning',\n",
       " 'EnvironmentError',\n",
       " 'Exception',\n",
       " 'ExceptionGroup',\n",
       " 'False',\n",
       " 'FileExistsError',\n",
       " 'FileNotFoundError',\n",
       " 'FloatingPointError',\n",
       " 'FutureWarning',\n",
       " 'GeneratorExit',\n",
       " 'IOError',\n",
       " 'ImportError',\n",
       " 'ImportWarning',\n",
       " 'IndentationError',\n",
       " 'IndexError',\n",
       " 'InterruptedError',\n",
       " 'IsADirectoryError',\n",
       " 'KeyError',\n",
       " 'KeyboardInterrupt',\n",
       " 'LookupError',\n",
       " 'MemoryError',\n",
       " 'ModuleNotFoundError',\n",
       " 'NameError',\n",
       " 'None',\n",
       " 'NotADirectoryError',\n",
       " 'NotImplemented',\n",
       " 'NotImplementedError',\n",
       " 'OSError',\n",
       " 'OverflowError',\n",
       " 'PendingDeprecationWarning',\n",
       " 'PermissionError',\n",
       " 'ProcessLookupError',\n",
       " 'RecursionError',\n",
       " 'ReferenceError',\n",
       " 'ResourceWarning',\n",
       " 'RuntimeError',\n",
       " 'RuntimeWarning',\n",
       " 'StopAsyncIteration',\n",
       " 'StopIteration',\n",
       " 'SyntaxError',\n",
       " 'SyntaxWarning',\n",
       " 'SystemError',\n",
       " 'SystemExit',\n",
       " 'TabError',\n",
       " 'TimeoutError',\n",
       " 'True',\n",
       " 'TypeError',\n",
       " 'UnboundLocalError',\n",
       " 'UnicodeDecodeError',\n",
       " 'UnicodeEncodeError',\n",
       " 'UnicodeError',\n",
       " 'UnicodeTranslateError',\n",
       " 'UnicodeWarning',\n",
       " 'UserWarning',\n",
       " 'ValueError',\n",
       " 'Warning',\n",
       " 'WindowsError',\n",
       " 'ZeroDivisionError',\n",
       " '__IPYTHON__',\n",
       " '__build_class__',\n",
       " '__debug__',\n",
       " '__doc__',\n",
       " '__import__',\n",
       " '__loader__',\n",
       " '__name__',\n",
       " '__package__',\n",
       " '__spec__',\n",
       " 'abs',\n",
       " 'aiter',\n",
       " 'all',\n",
       " 'anext',\n",
       " 'any',\n",
       " 'ascii',\n",
       " 'bin',\n",
       " 'bool',\n",
       " 'breakpoint',\n",
       " 'bytearray',\n",
       " 'bytes',\n",
       " 'callable',\n",
       " 'chr',\n",
       " 'classmethod',\n",
       " 'compile',\n",
       " 'complex',\n",
       " 'copyright',\n",
       " 'credits',\n",
       " 'delattr',\n",
       " 'dict',\n",
       " 'dir',\n",
       " 'display',\n",
       " 'divmod',\n",
       " 'enumerate',\n",
       " 'eval',\n",
       " 'exec',\n",
       " 'execfile',\n",
       " 'filter',\n",
       " 'float',\n",
       " 'format',\n",
       " 'frozenset',\n",
       " 'get_ipython',\n",
       " 'getattr',\n",
       " 'globals',\n",
       " 'hasattr',\n",
       " 'hash',\n",
       " 'help',\n",
       " 'hex',\n",
       " 'id',\n",
       " 'input',\n",
       " 'int',\n",
       " 'isinstance',\n",
       " 'issubclass',\n",
       " 'iter',\n",
       " 'len',\n",
       " 'license',\n",
       " 'list',\n",
       " 'locals',\n",
       " 'map',\n",
       " 'max',\n",
       " 'memoryview',\n",
       " 'min',\n",
       " 'next',\n",
       " 'object',\n",
       " 'oct',\n",
       " 'open',\n",
       " 'ord',\n",
       " 'pow',\n",
       " 'print',\n",
       " 'property',\n",
       " 'range',\n",
       " 'repr',\n",
       " 'reversed',\n",
       " 'round',\n",
       " 'runfile',\n",
       " 'set',\n",
       " 'setattr',\n",
       " 'slice',\n",
       " 'sorted',\n",
       " 'staticmethod',\n",
       " 'str',\n",
       " 'sum',\n",
       " 'super',\n",
       " 'tuple',\n",
       " 'type',\n",
       " 'vars',\n",
       " 'zip']"
      ]
     },
     "execution_count": 5,
     "metadata": {},
     "output_type": "execute_result"
    }
   ],
   "source": [
    "dir(__builtins__)"
   ]
  },
  {
   "cell_type": "code",
   "execution_count": 6,
   "id": "c650bafd-4aef-400d-b9f5-75231ce71ece",
   "metadata": {},
   "outputs": [
    {
     "data": {
      "text/plain": [
       "6"
      ]
     },
     "execution_count": 6,
     "metadata": {},
     "output_type": "execute_result"
    }
   ],
   "source": [
    "max(1, 3, 5, 6)"
   ]
  },
  {
   "cell_type": "code",
   "execution_count": 8,
   "id": "f2201271-3322-4cf5-8eb9-827ff9fd356b",
   "metadata": {},
   "outputs": [],
   "source": [
    "# 두개의 정수를 받아서 큰 수를 출력\n",
    "def my_max(num1, num2):\n",
    "    if num1 > num2:\n",
    "        print(num1)\n",
    "    elif num1 < num2:\n",
    "        print(num2)\n",
    "    else:\n",
    "        print('같습니다.')\n",
    "\n",
    "    # return None"
   ]
  },
  {
   "cell_type": "code",
   "execution_count": 20,
   "id": "505b885a-169d-418f-b433-4b5a0b9a1db1",
   "metadata": {},
   "outputs": [
    {
     "name": "stdout",
     "output_type": "stream",
     "text": [
      "2\n",
      "같습니다.\n",
      "None\n"
     ]
    }
   ],
   "source": [
    "my_max(1, 2)\n",
    "a = my_max(5, 5)\n",
    "print(a)"
   ]
  },
  {
   "cell_type": "code",
   "execution_count": null,
   "id": "e3d2a3cf-3e9b-40c3-9aa9-2a3dd153993c",
   "metadata": {},
   "outputs": [],
   "source": []
  },
  {
   "cell_type": "markdown",
   "id": "2b5802ca-a8a1-4ea4-9569-5c4244e6f9ec",
   "metadata": {},
   "source": [
    "### 함수의 return\n",
    "\n",
    "- 함수가 return을 만나면 해당 값을 반환하고 함수를 종료\n",
    "- 만약 return이 없다면 None을 자동으로 반환\n",
    "- return은 오직 하나의 객체만 반환합니다."
   ]
  },
  {
   "cell_type": "code",
   "execution_count": 16,
   "id": "8b27d340-083c-40ab-9b74-5b1a4d7c44f7",
   "metadata": {},
   "outputs": [],
   "source": [
    "def my_max2(num1, num2):\n",
    "    # return 'hello'\n",
    "\n",
    "    if num1 > num2:\n",
    "        return num1\n",
    "    elif num1 < num2:\n",
    "        return num2\n",
    "    else:\n",
    "        return num1"
   ]
  },
  {
   "cell_type": "code",
   "execution_count": 19,
   "id": "9dadb5aa-76b7-483b-b969-0dd613c26d1a",
   "metadata": {},
   "outputs": [
    {
     "name": "stdout",
     "output_type": "stream",
     "text": [
      "2\n"
     ]
    }
   ],
   "source": [
    "a = my_max2(1, 2)\n",
    "print(a)"
   ]
  },
  {
   "cell_type": "code",
   "execution_count": 26,
   "id": "68ea5704-1f19-4db8-ab48-6b0025f29026",
   "metadata": {},
   "outputs": [],
   "source": [
    "def my_list_max(list1, list2):\n",
    "\n",
    "    # return 1, 2\n",
    "    \n",
    "    if sum(list1) > sum(list2):\n",
    "        return list1\n",
    "    else:\n",
    "        return list2"
   ]
  },
  {
   "cell_type": "code",
   "execution_count": 27,
   "id": "9c1459b1-8324-4bba-b9bc-5ba1059e7941",
   "metadata": {},
   "outputs": [
    {
     "data": {
      "text/plain": [
       "[2, 3, 4]"
      ]
     },
     "execution_count": 27,
     "metadata": {},
     "output_type": "execute_result"
    }
   ],
   "source": [
    "my_list_max([1, 2, 3], [2, 3, 4])"
   ]
  },
  {
   "cell_type": "code",
   "execution_count": 28,
   "id": "17a97c2f-58a1-4b9d-93e6-84d5d1df22b5",
   "metadata": {},
   "outputs": [],
   "source": [
    "def my_def(x):\n",
    "    return x * 2"
   ]
  },
  {
   "cell_type": "code",
   "execution_count": 29,
   "id": "5711fd9d-6d70-4bee-afc5-86d2e34612f4",
   "metadata": {},
   "outputs": [
    {
     "data": {
      "text/plain": [
       "10"
      ]
     },
     "execution_count": 29,
     "metadata": {},
     "output_type": "execute_result"
    }
   ],
   "source": [
    "my_def(5)"
   ]
  },
  {
   "cell_type": "code",
   "execution_count": 30,
   "id": "d7819e70-e213-4cff-9324-26b00bb2d6b6",
   "metadata": {},
   "outputs": [],
   "source": [
    "def my_def2(x):\n",
    "    print(x*2)"
   ]
  },
  {
   "cell_type": "code",
   "execution_count": 31,
   "id": "7c64ef9f-b571-4eb6-ac49-9aaa0dcc3d5c",
   "metadata": {},
   "outputs": [
    {
     "name": "stdout",
     "output_type": "stream",
     "text": [
      "20\n",
      "None\n"
     ]
    }
   ],
   "source": [
    "a = my_def2(10)\n",
    "print(a)"
   ]
  },
  {
   "cell_type": "markdown",
   "id": "9ac7d9fd-60e6-4386-b8c7-131edd85b0ba",
   "metadata": {},
   "source": [
    "## 함수의 인수\n",
    "\n",
    "### 위치인수\n",
    "기본적으로 함수는 인수의 위치로 판단합니다."
   ]
  },
  {
   "cell_type": "code",
   "execution_count": 32,
   "id": "7c8f737f-fd3b-463b-8516-2b2a79e3678d",
   "metadata": {},
   "outputs": [],
   "source": [
    "def cylinder(r, h):\n",
    "    return 3.14 * r**2 * h"
   ]
  },
  {
   "cell_type": "code",
   "execution_count": 34,
   "id": "f9856a0e-a34e-4a3a-a317-96a376c8b393",
   "metadata": {},
   "outputs": [
    {
     "name": "stdout",
     "output_type": "stream",
     "text": [
      "1570.0\n",
      "785.0\n"
     ]
    }
   ],
   "source": [
    "print(cylinder(10, 5))\n",
    "print(cylinder(5, 10))"
   ]
  },
  {
   "cell_type": "markdown",
   "id": "a537075a-ca21-494e-a412-554902ec6676",
   "metadata": {},
   "source": [
    "### 기본값\n",
    "\n",
    "```python\n",
    "def func(p1-v1):\n",
    "    code...\n",
    "    return p1\n",
    "```"
   ]
  },
  {
   "cell_type": "code",
   "execution_count": 39,
   "id": "aff2204a-ff10-4bdf-947c-371797769a52",
   "metadata": {},
   "outputs": [],
   "source": [
    "def greeting(name='익명'):\n",
    "    return f'{name}님 안녕하세요!!'\n"
   ]
  },
  {
   "cell_type": "code",
   "execution_count": 38,
   "id": "1872a502-bfd1-406b-8ebb-dc5e3c24e2ba",
   "metadata": {},
   "outputs": [
    {
     "data": {
      "text/plain": [
       "'상현님 안녕하세요!!'"
      ]
     },
     "execution_count": 38,
     "metadata": {},
     "output_type": "execute_result"
    }
   ],
   "source": [
    "greeting('상현')"
   ]
  },
  {
   "cell_type": "code",
   "execution_count": 40,
   "id": "69375777-b136-47ce-8143-038086302b35",
   "metadata": {},
   "outputs": [
    {
     "data": {
      "text/plain": [
       "'익명님 안녕하세요!!'"
      ]
     },
     "execution_count": 40,
     "metadata": {},
     "output_type": "execute_result"
    }
   ],
   "source": [
    "greeting()"
   ]
  },
  {
   "cell_type": "code",
   "execution_count": 43,
   "id": "5d46d96c-57c4-41c0-9842-6d6e4698e780",
   "metadata": {},
   "outputs": [
    {
     "name": "stdout",
     "output_type": "stream",
     "text": [
      "hello!???world\n"
     ]
    }
   ],
   "source": [
    "print('hello', 'world', sep='!???')"
   ]
  },
  {
   "cell_type": "code",
   "execution_count": 46,
   "id": "24ccd2ee-e422-4170-b2f9-b2f1b20517c9",
   "metadata": {},
   "outputs": [
    {
     "ename": "SyntaxError",
     "evalue": "non-default argument follows default argument (2459540526.py, line 1)",
     "output_type": "error",
     "traceback": [
      "\u001b[1;36m  Cell \u001b[1;32mIn[46], line 1\u001b[1;36m\u001b[0m\n\u001b[1;33m    def greeting(name='익명', age):\u001b[0m\n\u001b[1;37m                            ^\u001b[0m\n\u001b[1;31mSyntaxError\u001b[0m\u001b[1;31m:\u001b[0m non-default argument follows default argument\n"
     ]
    }
   ],
   "source": [
    "def greeting(name='익명', age):\n",
    "    return f'{name}님 은 {age}살입니다.'"
   ]
  },
  {
   "cell_type": "code",
   "execution_count": 47,
   "id": "093a451d-fce2-48dd-a958-f1d2cbdb11da",
   "metadata": {},
   "outputs": [],
   "source": [
    "def greeting(age, name='익명'):\n",
    "    return f'{name}님 은 {age}살입니다.'"
   ]
  },
  {
   "cell_type": "code",
   "execution_count": 51,
   "id": "522b28fd-937c-4f31-b3c7-ebf9bc163c65",
   "metadata": {},
   "outputs": [
    {
     "name": "stdout",
     "output_type": "stream",
     "text": [
      "홍길동님 은 50살입니다.\n",
      "익명님 은 10살입니다.\n"
     ]
    }
   ],
   "source": [
    "print(greeting(50, '홍길동'))\n",
    "print(greeting(10))"
   ]
  },
  {
   "cell_type": "markdown",
   "id": "a150c3e0-18af-45b0-ad6f-ea8197edcdf6",
   "metadata": {},
   "source": [
    "## 키워드 인자\n",
    "### 함수를 호출(실행)할 때 내가 원하는 위치에 직접적으로 특정인자를 전달 가능"
   ]
  },
  {
   "cell_type": "code",
   "execution_count": 50,
   "id": "88988fd9-915b-428f-b8fa-037b23593f67",
   "metadata": {},
   "outputs": [],
   "source": [
    "def greeting(age, name='익명'):\n",
    "    return f'{name}님 은 {age}살입니다.'"
   ]
  },
  {
   "cell_type": "code",
   "execution_count": 54,
   "id": "6fd99253-00b4-4096-b9a0-4ffb1dfc7377",
   "metadata": {},
   "outputs": [
    {
     "name": "stdout",
     "output_type": "stream",
     "text": [
      "익명님 은 10살입니다.\n",
      "홍길동님 은 50살입니다.\n",
      "홍길동님 은 30살입니다.\n"
     ]
    }
   ],
   "source": [
    "print(greeting(10))\n",
    "print(greeting(50,'홍길동'))\n",
    "print(greeting(name='홍길동', age=30))"
   ]
  },
  {
   "cell_type": "markdown",
   "id": "88de9792-bfd9-48c9-9882-b06fa9dfa6a9",
   "metadata": {},
   "source": [
    "### 가변인자 리스트\n",
    "```python\n",
    "def func(*parms):\n",
    "code\n",
    "...\n",
    "```"
   ]
  },
  {
   "cell_type": "code",
   "execution_count": 57,
   "id": "5656fade-4713-45b6-8631-5333b5ef0da9",
   "metadata": {},
   "outputs": [],
   "source": [
    "def my_print(*words):\n",
    "    print(words)\n",
    "    print(type(words))"
   ]
  },
  {
   "cell_type": "code",
   "execution_count": 58,
   "id": "2698ef12-a46c-4c22-9c0c-3b5fd3a7538b",
   "metadata": {},
   "outputs": [
    {
     "name": "stdout",
     "output_type": "stream",
     "text": [
      "('a', 'b', 'c', 'd')\n",
      "<class 'tuple'>\n"
     ]
    }
   ],
   "source": [
    "my_print('a', 'b', 'c', 'd')"
   ]
  },
  {
   "cell_type": "code",
   "execution_count": 61,
   "id": "3caf0d48-a26a-4937-b1e5-e89508a2f287",
   "metadata": {},
   "outputs": [
    {
     "name": "stdout",
     "output_type": "stream",
     "text": [
      "a b c d 공간\n",
      "a/b/c/d\n"
     ]
    }
   ],
   "source": [
    "print('a', 'b', 'c', 'd', '공간')\n",
    "print('a', 'b', 'c', 'd', sep='/')"
   ]
  },
  {
   "cell_type": "code",
   "execution_count": 62,
   "id": "e09d5a49-f537-4f14-a43c-3b08200ada4e",
   "metadata": {},
   "outputs": [
    {
     "data": {
      "text/plain": [
       "7"
      ]
     },
     "execution_count": 62,
     "metadata": {},
     "output_type": "execute_result"
    }
   ],
   "source": [
    "max(1, 2, 3, 4, 5, 6, 7)"
   ]
  },
  {
   "cell_type": "code",
   "execution_count": 67,
   "id": "cd0dda5d-1c7f-46e1-967b-68e5b3698d5d",
   "metadata": {},
   "outputs": [],
   "source": [
    "# 여러개의 숫자를 받아 그중 가장 큰수를 리턴\n",
    "def my_max(*numbers):\n",
    "    result = numbers[0]\n",
    "\n",
    "    for number in numbers:\n",
    "        if result < number:\n",
    "            result = number\n",
    "\n",
    "    return result\n",
    "    "
   ]
  },
  {
   "cell_type": "code",
   "execution_count": 68,
   "id": "a88241d9-720b-4345-b6d6-1e0d4e0f6966",
   "metadata": {},
   "outputs": [
    {
     "name": "stdout",
     "output_type": "stream",
     "text": [
      "5\n",
      "-1\n"
     ]
    }
   ],
   "source": [
    "print(my_max(1,2, 3, 4, 5))\n",
    "print(my_max(-1, -2, -3, -4, -5))"
   ]
  },
  {
   "cell_type": "markdown",
   "id": "1f29384a-81cd-4174-bc8f-138156a94c3d",
   "metadata": {},
   "source": [
    "### 정의되지 않은 키워드 인자 처리하기\n",
    "```python\n",
    "def func(**kwargs):\n",
    "code\n",
    "...\n",
    "```"
   ]
  },
  {
   "cell_type": "code",
   "execution_count": 70,
   "id": "d5aedf8a-0ac6-4b9b-81db-7b63a1002730",
   "metadata": {},
   "outputs": [
    {
     "name": "stdout",
     "output_type": "stream",
     "text": [
      "{'name': 'hong', 'age': 10}\n"
     ]
    }
   ],
   "source": [
    "info = {\n",
    "    'name': 'hong',\n",
    "    'age': 10,\n",
    "}\n",
    "print(info)"
   ]
  },
  {
   "cell_type": "code",
   "execution_count": 71,
   "id": "72fa2a56-1b5f-4c9e-923f-56347a5c49e8",
   "metadata": {},
   "outputs": [
    {
     "name": "stdout",
     "output_type": "stream",
     "text": [
      "{'name': 'hong', 'age': 20}\n"
     ]
    }
   ],
   "source": [
    "info = dict(name='hong', age=20)\n",
    "print(info)"
   ]
  },
  {
   "cell_type": "code",
   "execution_count": 82,
   "id": "9c106947-7e29-4971-ab14-7cfba2011576",
   "metadata": {},
   "outputs": [],
   "source": [
    "def fake_dict(**kwargs):\n",
    "    # print(kwargs)\n",
    "    for key, value in kwargs.items():\n",
    "        print(f'{key}는 {value}입니다.')"
   ]
  },
  {
   "cell_type": "code",
   "execution_count": 83,
   "id": "99bb207e-3d51-473e-8b30-bca58fa1c7cb",
   "metadata": {},
   "outputs": [
    {
     "name": "stdout",
     "output_type": "stream",
     "text": [
      "a는 10입니다.\n",
      "b는 20입니다.\n",
      "korean는 안녕입니다.\n",
      "english는 hello입니다.\n"
     ]
    }
   ],
   "source": [
    "fake_dict(a=10, b=20)\n",
    "fake_dict(korean='안녕', english='hello')"
   ]
  },
  {
   "cell_type": "markdown",
   "id": "a8a96562-0c10-4aaf-9cd6-363001875a5d",
   "metadata": {},
   "source": [
    "## dictionary를 인자로 넣기(unpacking)"
   ]
  },
  {
   "cell_type": "code",
   "execution_count": 84,
   "id": "3848ea93-9beb-4618-9c67-74e077bbc6b5",
   "metadata": {},
   "outputs": [],
   "source": [
    "def sign_up(id, pw, pw_confirmation):\n",
    "    if pw == pw_confirmation:\n",
    "        print(f'{id}님 회원가입이 완료되었습니다.')\n",
    "    else:\n",
    "        print('비밀번호가 일치하지 않습니다')"
   ]
  },
  {
   "cell_type": "code",
   "execution_count": 85,
   "id": "00e0b337-d8e5-42bf-87d9-9592655729c4",
   "metadata": {},
   "outputs": [
    {
     "name": "stdout",
     "output_type": "stream",
     "text": [
      "change님 회원가입이 완료되었습니다.\n",
      "비밀번호가 일치하지 않습니다\n"
     ]
    }
   ],
   "source": [
    "sign_up('change', '1234', '1234')\n",
    "sign_up('change', '1234', '12345')"
   ]
  },
  {
   "cell_type": "code",
   "execution_count": 86,
   "id": "c022a44a-3a78-4634-9f66-f70e590d9df2",
   "metadata": {},
   "outputs": [
    {
     "name": "stdout",
     "output_type": "stream",
     "text": [
      "change님 회원가입이 완료되었습니다.\n"
     ]
    }
   ],
   "source": [
    "account = {\n",
    "    'id': 'change',\n",
    "    'pw': '1234',\n",
    "    'pw_confirmation': '1234',\n",
    "}\n",
    "sign_up(**account)"
   ]
  },
  {
   "cell_type": "markdown",
   "id": "e4159739-9552-4aa6-9498-f3842acea0b8",
   "metadata": {},
   "source": [
    "## lambda 표현식\n",
    "```python\n",
    "lambda parameter: expression"
   ]
  },
  {
   "cell_type": "code",
   "execution_count": 89,
   "id": "ff3c6a51-90be-4163-bd85-cbdf1872934c",
   "metadata": {},
   "outputs": [
    {
     "data": {
      "text/plain": [
       "3"
      ]
     },
     "execution_count": 89,
     "metadata": {},
     "output_type": "execute_result"
    }
   ],
   "source": [
    "(lambda x, y: x + y)(1, 2)"
   ]
  },
  {
   "cell_type": "code",
   "execution_count": 88,
   "id": "940d09b6-df85-4d06-bba4-f0ddf2588d77",
   "metadata": {},
   "outputs": [
    {
     "data": {
      "text/plain": [
       "3"
      ]
     },
     "execution_count": 88,
     "metadata": {},
     "output_type": "execute_result"
    }
   ],
   "source": [
    "def my_sum(x, y):\n",
    "    return x +y\n",
    "\n",
    "my_sum(1, 2)"
   ]
  },
  {
   "cell_type": "markdown",
   "id": "005b95af-2001-4e3b-945d-8e2b19768734",
   "metadata": {},
   "source": [
    "### 타입힌트"
   ]
  },
  {
   "cell_type": "code",
   "execution_count": 92,
   "id": "ced2a8ad-c71c-4933-9954-e6c374f7bbb3",
   "metadata": {},
   "outputs": [],
   "source": [
    "def my_sum(a: int, b: int) -> int:\n",
    "    return a + b\n",
    "    "
   ]
  },
  {
   "cell_type": "code",
   "execution_count": 93,
   "id": "42104bd0-37d4-4b57-abed-d95504292326",
   "metadata": {},
   "outputs": [
    {
     "ename": "TypeError",
     "evalue": "can only concatenate str (not \"int\") to str",
     "output_type": "error",
     "traceback": [
      "\u001b[1;31m---------------------------------------------------------------------------\u001b[0m",
      "\u001b[1;31mTypeError\u001b[0m                                 Traceback (most recent call last)",
      "Cell \u001b[1;32mIn[93], line 1\u001b[0m\n\u001b[1;32m----> 1\u001b[0m \u001b[43mmy_sum\u001b[49m\u001b[43m(\u001b[49m\u001b[38;5;124;43m'\u001b[39;49m\u001b[38;5;124;43m1\u001b[39;49m\u001b[38;5;124;43m'\u001b[39;49m\u001b[43m,\u001b[49m\u001b[43m \u001b[49m\u001b[38;5;241;43m2\u001b[39;49m\u001b[43m)\u001b[49m\n",
      "Cell \u001b[1;32mIn[92], line 2\u001b[0m, in \u001b[0;36mmy_sum\u001b[1;34m(a, b)\u001b[0m\n\u001b[0;32m      1\u001b[0m \u001b[38;5;28;01mdef\u001b[39;00m \u001b[38;5;21mmy_sum\u001b[39m(a: \u001b[38;5;28mint\u001b[39m, b: \u001b[38;5;28mint\u001b[39m) \u001b[38;5;241m-\u001b[39m\u001b[38;5;241m>\u001b[39m \u001b[38;5;28mint\u001b[39m:\n\u001b[1;32m----> 2\u001b[0m     \u001b[38;5;28;01mreturn\u001b[39;00m \u001b[43ma\u001b[49m\u001b[43m \u001b[49m\u001b[38;5;241;43m+\u001b[39;49m\u001b[43m \u001b[49m\u001b[43mb\u001b[49m\n",
      "\u001b[1;31mTypeError\u001b[0m: can only concatenate str (not \"int\") to str"
     ]
    }
   ],
   "source": [
    "my_sum('1', 2)"
   ]
  },
  {
   "cell_type": "markdown",
   "id": "9616ee38-72a5-434f-b9cf-90377de1755d",
   "metadata": {},
   "source": [
    "## 이름공간(scope)\n",
    "python에서 사용되는 이름들은 이름공간(namespece)에 저장되어있습니다.\n",
    "\n",
    "- Local scope : 정의된 함수 내부\n",
    "- Enclosed scope : 상위 함수\n",
    "- Global scope : 함수 밖의 변수 혹은 import된 모듈\n",
    "- Built-in scope : python이 기본적으로 가지고 있는 함수 혹은 변수"
   ]
  },
  {
   "cell_type": "code",
   "execution_count": 1,
   "id": "915eeda5-2979-44c6-a2db-6dc627e0dbb4",
   "metadata": {},
   "outputs": [],
   "source": [
    "str = '123'"
   ]
  },
  {
   "cell_type": "code",
   "execution_count": 2,
   "id": "b367dfb9-f15e-46fa-9b8a-15d9b93af224",
   "metadata": {},
   "outputs": [
    {
     "name": "stdout",
     "output_type": "stream",
     "text": [
      "123\n"
     ]
    }
   ],
   "source": [
    "print(str)"
   ]
  },
  {
   "cell_type": "code",
   "execution_count": 5,
   "id": "e7095286-f12d-4773-a759-695c726dcb8c",
   "metadata": {},
   "outputs": [
    {
     "data": {
      "text/plain": [
       "'123'"
      ]
     },
     "execution_count": 5,
     "metadata": {},
     "output_type": "execute_result"
    }
   ],
   "source": [
    "str(123)"
   ]
  },
  {
   "cell_type": "code",
   "execution_count": 4,
   "id": "045a6d83-b0b2-47c3-b19c-6bb269777d2c",
   "metadata": {},
   "outputs": [],
   "source": [
    "del str"
   ]
  },
  {
   "cell_type": "code",
   "execution_count": 7,
   "id": "398d1dd0-214c-4e19-8d2e-2412c5456c9e",
   "metadata": {},
   "outputs": [
    {
     "name": "stdout",
     "output_type": "stream",
     "text": [
      "5\n",
      "1\n"
     ]
    }
   ],
   "source": [
    "a = 1\n",
    "\n",
    "def local_scope(a):\n",
    "    # a = 5\n",
    "    print(a)\n",
    "\n",
    "local_scope(5)\n",
    "print(a)"
   ]
  },
  {
   "cell_type": "code",
   "execution_count": 8,
   "id": "7fa14bf9-a94e-4309-bbe1-d83beadd501d",
   "metadata": {},
   "outputs": [
    {
     "name": "stdout",
     "output_type": "stream",
     "text": [
      "10\n"
     ]
    }
   ],
   "source": [
    "a = 10\n",
    "\n",
    "def global_scope():\n",
    "    global a\n",
    "    print(a)\n",
    "\n",
    "global_scope()"
   ]
  },
  {
   "cell_type": "markdown",
   "id": "3c6c5f57-7e90-47e5-81f2-f39c4b201206",
   "metadata": {},
   "source": [
    "### 재귀(recursive\n",
    "재귀 함수는 함수 내부에서 자기 자신을 호출하는 함수를 의미한다\n"
   ]
  },
  {
   "cell_type": "code",
   "execution_count": 10,
   "id": "0732f71e-b276-49c2-b061-180d112783fa",
   "metadata": {},
   "outputs": [
    {
     "name": "stdout",
     "output_type": "stream",
     "text": [
      "120\n"
     ]
    }
   ],
   "source": [
    "# 팩토리얼(n! = 1 * 2 * 3 * ... * n)\n",
    "def fact(n):\n",
    "    result = 1\n",
    "\n",
    "    while n > 1:\n",
    "        result = result * n\n",
    "        # result *= n\n",
    "\n",
    "        n = n -1\n",
    "        # n -= 1\n",
    "\n",
    "    return result\n",
    "\n",
    "print(fact(5))    "
   ]
  },
  {
   "cell_type": "markdown",
   "id": "21412240-f7b4-4e29-93d5-6488881869da",
   "metadata": {},
   "source": [
    "n! = 1 * 2 * 3 * ... * n-1 * n\n",
    "\n",
    "- 1! = 1\n",
    "- 2! = 1 * 2 = 1! * 2\n",
    "- 3! = 1 * 2 * 3 = 2! *3\n",
    "- 4! = 1 * 2 * 3 * 4 = 3! * 4"
   ]
  },
  {
   "cell_type": "code",
   "execution_count": 12,
   "id": "312a5061-8d55-4e58-bdd4-74c63bc3960c",
   "metadata": {},
   "outputs": [
    {
     "name": "stdout",
     "output_type": "stream",
     "text": [
      "120\n"
     ]
    }
   ],
   "source": [
    "def factorial(n):\n",
    "    if n <= 1:\n",
    "        return 1\n",
    "    else:\n",
    "        return factorial(n-1) * n\n",
    "\n",
    "print(factorial(5))"
   ]
  },
  {
   "cell_type": "markdown",
   "id": "86c5c539-d593-47f9-92cc-19b134e11499",
   "metadata": {},
   "source": [
    "#### 피보나치 수열\n",
    "- F(0) = F(1) =1\n",
    "- F(N) = F(N-1) + F(N-2)"
   ]
  },
  {
   "cell_type": "code",
   "execution_count": 13,
   "id": "0a5c2d4e-6a93-43ab-afcf-a0e1d90e7d9c",
   "metadata": {},
   "outputs": [
    {
     "name": "stdout",
     "output_type": "stream",
     "text": [
      "89\n"
     ]
    }
   ],
   "source": [
    "# 반복문\n",
    "def fib_loop(n):\n",
    "    result = [1, 1]\n",
    "\n",
    "    for i in range(1, n):\n",
    "        end1 = result[-1]\n",
    "        end2 = result[-2]\n",
    "\n",
    "        fib_num = end1 + end2\n",
    "\n",
    "        result.append(fib_num)\n",
    "\n",
    "    return result[-1]\n",
    "\n",
    "print(fib_loop(10))"
   ]
  },
  {
   "cell_type": "code",
   "execution_count": 14,
   "id": "a0c1a237-e9da-4978-b9e2-c1d47d326bf5",
   "metadata": {},
   "outputs": [
    {
     "name": "stdout",
     "output_type": "stream",
     "text": [
      "89\n"
     ]
    }
   ],
   "source": [
    "# 재귀\n",
    "def fib_rec(n):\n",
    "    if n == 0 or n == 1:\n",
    "        return 1\n",
    "    else:\n",
    "        return fib_rec(n-1) + fib_rec(n-2)\n",
    "\n",
    "print(fib_rec(10))"
   ]
  },
  {
   "cell_type": "code",
   "execution_count": null,
   "id": "efb714ba-9cc8-45bd-8971-fceced21103d",
   "metadata": {},
   "outputs": [],
   "source": []
  },
  {
   "cell_type": "code",
   "execution_count": null,
   "id": "23faa0d7-18c9-4ee2-ae54-3dd8890cec30",
   "metadata": {},
   "outputs": [],
   "source": []
  },
  {
   "cell_type": "code",
   "execution_count": null,
   "id": "86c23bee-dd33-4c88-97d0-94085981d9a0",
   "metadata": {},
   "outputs": [],
   "source": []
  },
  {
   "cell_type": "code",
   "execution_count": null,
   "id": "b7710aeb-b963-4694-89c0-565a09796626",
   "metadata": {},
   "outputs": [],
   "source": []
  }
 ],
 "metadata": {
  "kernelspec": {
   "display_name": "Python 3 (ipykernel)",
   "language": "python",
   "name": "python3"
  },
  "language_info": {
   "codemirror_mode": {
    "name": "ipython",
    "version": 3
   },
   "file_extension": ".py",
   "mimetype": "text/x-python",
   "name": "python",
   "nbconvert_exporter": "python",
   "pygments_lexer": "ipython3",
   "version": "3.11.5"
  }
 },
 "nbformat": 4,
 "nbformat_minor": 5
}
