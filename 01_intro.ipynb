{
 "cells": [
  {
   "cell_type": "markdown",
   "id": "9cf80bb2-512e-4d24-aaed-5b4efee2c807",
   "metadata": {},
   "source": [
    "# 01.intro"
   ]
  },
  {
   "cell_type": "markdown",
   "id": "496331c0-3c58-4c87-bc34-f3b49079c471",
   "metadata": {},
   "source": [
    "## 단축키\n",
    "\n",
    "- ctrl + enter : 지금 셀 실행\n",
    "- shift + enter : 지금 셀 실핼 & 아래로 이동\n",
    "- alt + enter : 지금 셀 실행 & 아래에 새로운 셀 추가"
   ]
  },
  {
   "cell_type": "code",
   "execution_count": null,
   "id": "8a9b88a6-8329-4721-b277-3a01afb36073",
   "metadata": {},
   "outputs": [],
   "source": [
    "# 주석입니다."
   ]
  },
  {
   "cell_type": "markdown",
   "id": "e99a810c-b574-4cf2-97fa-d5942aa88a68",
   "metadata": {},
   "source": [
    "## 1.변수\n",
    "\n",
    "변수이름 = 값\n",
    "\n",
    "- 변수이름은 어떤 이름이든 상관없음\n",
    "- 영어, 숫자, `-`를 이용하여 선언\n",
    "- 키워드는 사용불가"
   ]
  },
  {
   "cell_type": "code",
   "execution_count": null,
   "id": "714e8bbf-4470-4c15-9a2d-d74987960751",
   "metadata": {},
   "outputs": [],
   "source": [
    "a = 10"
   ]
  },
  {
   "cell_type": "code",
   "execution_count": null,
   "id": "64e70b19-d99e-4c66-b19e-5b1cc5d37713",
   "metadata": {},
   "outputs": [],
   "source": [
    "a"
   ]
  },
  {
   "cell_type": "code",
   "execution_count": null,
   "id": "44b411da-61ea-4be9-b634-0b1e16d342a0",
   "metadata": {},
   "outputs": [],
   "source": [
    "import keyword\n",
    "keyword.kwlist"
   ]
  },
  {
   "cell_type": "markdown",
   "id": "1f10db73-95a8-443b-82f0-622e0b37a132",
   "metadata": {},
   "source": [
    "### 1.1 number"
   ]
  },
  {
   "cell_type": "code",
   "execution_count": null,
   "id": "8555fede-7557-4309-800b-01446ee9c98c",
   "metadata": {},
   "outputs": [],
   "source": [
    "a = 100000"
   ]
  },
  {
   "cell_type": "code",
   "execution_count": null,
   "id": "a6e9d7be-0528-4bd8-b286-65540ea6e661",
   "metadata": {},
   "outputs": [],
   "source": [
    "a"
   ]
  },
  {
   "cell_type": "code",
   "execution_count": null,
   "id": "3c40a3e8-e266-47e9-9692-c1f975bf33fa",
   "metadata": {},
   "outputs": [],
   "source": [
    "type(a)"
   ]
  },
  {
   "cell_type": "code",
   "execution_count": null,
   "id": "68dc2f30-da9d-4196-b2d7-052efe500e5a",
   "metadata": {},
   "outputs": [],
   "source": [
    "b = 1.1"
   ]
  },
  {
   "cell_type": "code",
   "execution_count": null,
   "id": "c7573d18-0ce9-4d5a-a6be-3d1849e60033",
   "metadata": {},
   "outputs": [],
   "source": [
    "b"
   ]
  },
  {
   "cell_type": "code",
   "execution_count": null,
   "id": "e08e3a62-f359-4262-bad7-84f0c0d9ceb3",
   "metadata": {},
   "outputs": [],
   "source": [
    "type(b)"
   ]
  },
  {
   "cell_type": "code",
   "execution_count": null,
   "id": "e5c8e201-c3d6-4e56-9270-bc8bdfb3a76a",
   "metadata": {},
   "outputs": [],
   "source": [
    "c = 1 -4j"
   ]
  },
  {
   "cell_type": "code",
   "execution_count": null,
   "id": "ffff2109-1516-48cb-b148-8f9eb93be28a",
   "metadata": {},
   "outputs": [],
   "source": [
    "c"
   ]
  },
  {
   "cell_type": "code",
   "execution_count": null,
   "id": "33f577c1-a002-459d-8daa-31b8a0fb986e",
   "metadata": {},
   "outputs": [],
   "source": [
    "type(c)"
   ]
  },
  {
   "cell_type": "code",
   "execution_count": null,
   "id": "e8f6d062-2718-43c4-ac78-d7e126d677fb",
   "metadata": {},
   "outputs": [],
   "source": [
    "c.imag"
   ]
  },
  {
   "cell_type": "code",
   "execution_count": null,
   "id": "579ec6a4-29fe-43be-b586-8f41dd6fe37b",
   "metadata": {},
   "outputs": [],
   "source": [
    "c.real"
   ]
  },
  {
   "cell_type": "markdown",
   "id": "d8d30eae-acd0-412d-8155-8a3aab9b03e7",
   "metadata": {},
   "source": [
    "### 1.2 Boolean\n",
    "\n",
    "`True`,`False`호 이루어진 타입"
   ]
  },
  {
   "cell_type": "code",
   "execution_count": null,
   "id": "d0058c1e-e974-49bf-b1a2-2cc5803f3d03",
   "metadata": {},
   "outputs": [],
   "source": [
    "a = True"
   ]
  },
  {
   "cell_type": "code",
   "execution_count": null,
   "id": "2ded10b9-9d12-4663-adb3-5fb88f15c793",
   "metadata": {},
   "outputs": [],
   "source": [
    "type(a)"
   ]
  },
  {
   "cell_type": "markdown",
   "id": "1dba0804-1f38-4e02-b58b-9cd742c9e669",
   "metadata": {},
   "source": [
    "### 1.3 None\n",
    "데이터가 없음을 의미"
   ]
  },
  {
   "cell_type": "code",
   "execution_count": null,
   "id": "2e7f6c2b-da1a-42e3-a84e-c4c6c8415733",
   "metadata": {},
   "outputs": [],
   "source": [
    "a = None"
   ]
  },
  {
   "cell_type": "code",
   "execution_count": null,
   "id": "896100b4-f3d3-42d5-9ea7-f6054c97b43a",
   "metadata": {},
   "outputs": [],
   "source": [
    "type(a)"
   ]
  },
  {
   "cell_type": "markdown",
   "id": "b77e2f0e-093f-49dd-9fbf-15107dbab0d8",
   "metadata": {},
   "source": [
    "### 1.4 String\n",
    "- 문자열은 `'`,`\"`를 이용하여 표현"
   ]
  },
  {
   "cell_type": "code",
   "execution_count": 2,
   "id": "db6c240b-c501-407f-b8fc-b9db31a6e0c2",
   "metadata": {},
   "outputs": [],
   "source": [
    "a = 'hello'"
   ]
  },
  {
   "cell_type": "code",
   "execution_count": 3,
   "id": "2785bd5f-acbd-4ff4-b160-771f866a4c39",
   "metadata": {},
   "outputs": [
    {
     "data": {
      "text/plain": [
       "str"
      ]
     },
     "execution_count": 3,
     "metadata": {},
     "output_type": "execute_result"
    }
   ],
   "source": [
    "type(a)"
   ]
  },
  {
   "cell_type": "code",
   "execution_count": 4,
   "id": "7b496126-12d6-457e-9f1b-8e9798400056",
   "metadata": {},
   "outputs": [],
   "source": [
    "b = \"world\""
   ]
  },
  {
   "cell_type": "code",
   "execution_count": 5,
   "id": "fcb1d793-bfa8-472c-af94-a12e03e13c6d",
   "metadata": {},
   "outputs": [
    {
     "data": {
      "text/plain": [
       "str"
      ]
     },
     "execution_count": 5,
     "metadata": {},
     "output_type": "execute_result"
    }
   ],
   "source": [
    "type(b)"
   ]
  },
  {
   "cell_type": "code",
   "execution_count": 6,
   "id": "a39e94fb-5a69-4c73-a4f8-d6d3d5501b4f",
   "metadata": {},
   "outputs": [
    {
     "name": "stdin",
     "output_type": "stream",
     "text": [
      " 11111\n"
     ]
    }
   ],
   "source": [
    "age = input()"
   ]
  },
  {
   "cell_type": "code",
   "execution_count": 7,
   "id": "02402588-a69d-4617-86ee-27f3464be6ea",
   "metadata": {},
   "outputs": [
    {
     "data": {
      "text/plain": [
       "'11111'"
      ]
     },
     "execution_count": 7,
     "metadata": {},
     "output_type": "execute_result"
    }
   ],
   "source": [
    "age"
   ]
  },
  {
   "cell_type": "code",
   "execution_count": 8,
   "id": "6e3dde6c-3656-43be-89cc-4057e17db4f7",
   "metadata": {},
   "outputs": [
    {
     "data": {
      "text/plain": [
       "str"
      ]
     },
     "execution_count": 8,
     "metadata": {},
     "output_type": "execute_result"
    }
   ],
   "source": [
    "type(age)"
   ]
  },
  {
   "cell_type": "code",
   "execution_count": 10,
   "id": "619ff779-fbc8-42f6-99ee-e5ef9d076027",
   "metadata": {},
   "outputs": [
    {
     "ename": "SyntaxError",
     "evalue": "invalid syntax. Perhaps you forgot a comma? (604831662.py, line 1)",
     "output_type": "error",
     "traceback": [
      "\u001b[1;36m  Cell \u001b[1;32mIn[10], line 1\u001b[1;36m\u001b[0m\n\u001b[1;33m    print('안녕하세요? '이상현'입니다.')\u001b[0m\n\u001b[1;37m          ^\u001b[0m\n\u001b[1;31mSyntaxError\u001b[0m\u001b[1;31m:\u001b[0m invalid syntax. Perhaps you forgot a comma?\n"
     ]
    }
   ],
   "source": [
    "print('안녕하세요? '이상현'입니다.')"
   ]
  },
  {
   "cell_type": "code",
   "execution_count": 11,
   "id": "b497826d-cce0-46ea-87df-47c7c4c4cd88",
   "metadata": {},
   "outputs": [
    {
     "name": "stdout",
     "output_type": "stream",
     "text": [
      "안녕하세요? '이상현'입니다.\n"
     ]
    }
   ],
   "source": [
    "print(\"안녕하세요? '이상현'입니다.\")"
   ]
  },
  {
   "cell_type": "code",
   "execution_count": 12,
   "id": "af2d0959-bb64-4015-90ab-3da6c41390b3",
   "metadata": {},
   "outputs": [
    {
     "name": "stdout",
     "output_type": "stream",
     "text": [
      "안녕하세요? '이상현'입니다.\n"
     ]
    }
   ],
   "source": [
    "print('안녕하세요? \\'이상현\\'입니다.')"
   ]
  },
  {
   "cell_type": "code",
   "execution_count": 17,
   "id": "9b702c6c-efca-4cf0-a307-697d5a248358",
   "metadata": {},
   "outputs": [],
   "source": [
    "a = '''\n",
    "여기는 \\n문자열입니다.\n",
    "여러\\t줄을 작성 할수 잇어요.\n",
    "'''"
   ]
  },
  {
   "cell_type": "code",
   "execution_count": 15,
   "id": "084b1814-c409-4459-b2cb-e9abdcf585d1",
   "metadata": {},
   "outputs": [
    {
     "data": {
      "text/plain": [
       "'\\n여기는 문자열입니다.\\n여러줄을 작성 할수 잇어요.\\n'"
      ]
     },
     "execution_count": 15,
     "metadata": {},
     "output_type": "execute_result"
    }
   ],
   "source": [
    "a"
   ]
  },
  {
   "cell_type": "code",
   "execution_count": 18,
   "id": "975cfd08-c0a2-4588-a8b2-5921af7e8a3b",
   "metadata": {},
   "outputs": [
    {
     "name": "stdout",
     "output_type": "stream",
     "text": [
      "\n",
      "여기는 \n",
      "문자열입니다.\n",
      "여러\t줄을 작성 할수 잇어요.\n",
      "\n"
     ]
    }
   ],
   "source": [
    "print(a)"
   ]
  },
  {
   "cell_type": "code",
   "execution_count": 21,
   "id": "c47babfe-c513-4a0c-9b71-73453ac65719",
   "metadata": {},
   "outputs": [
    {
     "name": "stdout",
     "output_type": "stream",
     "text": [
      "하나 둘 셋\n"
     ]
    }
   ],
   "source": [
    "print('하나', '둘', '셋')"
   ]
  },
  {
   "cell_type": "markdown",
   "id": "9647aaac-c96c-4392-9a43-d144ecda05c5",
   "metadata": {},
   "source": [
    "### string interpolation\n",
    "\n",
    "1.%-fomatting\n",
    "2.str.format()\n",
    "3.f-string\n"
   ]
  },
  {
   "cell_type": "code",
   "execution_count": 25,
   "id": "7cb21c59-a43b-4f7f-a931-8c281719d7cd",
   "metadata": {},
   "outputs": [],
   "source": [
    "age = 100"
   ]
  },
  {
   "cell_type": "code",
   "execution_count": 26,
   "id": "867c971c-de9f-455c-b1ad-5d344d735505",
   "metadata": {},
   "outputs": [
    {
     "name": "stdout",
     "output_type": "stream",
     "text": [
      "홍길동은 100살입니다.\n"
     ]
    }
   ],
   "source": [
    "print('홍길동은 %s살입니다.'% age)"
   ]
  },
  {
   "cell_type": "code",
   "execution_count": 28,
   "id": "84209714-4e90-4673-a1e4-659747d3df78",
   "metadata": {},
   "outputs": [
    {
     "name": "stdout",
     "output_type": "stream",
     "text": [
      "홍길동은 100살입니다.\n"
     ]
    }
   ],
   "source": [
    "print('홍길동은 {}살입니다.'.format(age))"
   ]
  },
  {
   "cell_type": "code",
   "execution_count": 30,
   "id": "5b4577bb-f3e3-4f1d-82bb-c972b97abf29",
   "metadata": {},
   "outputs": [
    {
     "name": "stdout",
     "output_type": "stream",
     "text": [
      "홍길동은 100살입니다.\n"
     ]
    }
   ],
   "source": [
    "print(f'홍길동은 {age}살입니다.')"
   ]
  },
  {
   "cell_type": "markdown",
   "id": "b4f42966-e6ca-433a-9dcf-6c696292750c",
   "metadata": {},
   "source": [
    "## 2. 연산자\n",
    "2.1 산술연산자"
   ]
  },
  {
   "cell_type": "code",
   "execution_count": 31,
   "id": "f3f3b550-ea00-4186-bd16-507a7f839491",
   "metadata": {},
   "outputs": [],
   "source": [
    "a = 2\n",
    "b = 3"
   ]
  },
  {
   "cell_type": "code",
   "execution_count": 33,
   "id": "5d68debe-fe8e-403c-a2dc-0d759a7df355",
   "metadata": {},
   "outputs": [
    {
     "name": "stdout",
     "output_type": "stream",
     "text": [
      "5\n",
      "-1\n",
      "6\n",
      "0.6666666666666666\n"
     ]
    }
   ],
   "source": [
    "print(a + b)\n",
    "print(a - b)\n",
    "print(a * b)\n",
    "print(a / b)"
   ]
  },
  {
   "cell_type": "code",
   "execution_count": 34,
   "id": "dba0ea7f-3adf-4835-8c9c-9600fd16ae3c",
   "metadata": {},
   "outputs": [
    {
     "data": {
      "text/plain": [
       "-1"
      ]
     },
     "execution_count": 34,
     "metadata": {},
     "output_type": "execute_result"
    }
   ],
   "source": [
    "a + b\n",
    "a - b"
   ]
  },
  {
   "cell_type": "code",
   "execution_count": 35,
   "id": "61a1ce36-1f2a-472f-81c8-152d6783fabe",
   "metadata": {},
   "outputs": [
    {
     "name": "stdout",
     "output_type": "stream",
     "text": [
      "8\n"
     ]
    }
   ],
   "source": [
    "print(a**b)"
   ]
  },
  {
   "cell_type": "code",
   "execution_count": 37,
   "id": "e97b9a62-e647-4c42-9c9c-29507b04ab66",
   "metadata": {},
   "outputs": [
    {
     "name": "stdout",
     "output_type": "stream",
     "text": [
      "0\n",
      "2\n",
      "(0, 2)\n"
     ]
    }
   ],
   "source": [
    "#나눈 몫\n",
    "print(a // b)\n",
    "# 나눈 나머지\n",
    "print(a % b)\n",
    "\n",
    "#mod\n",
    "print(divmod(a, b))"
   ]
  },
  {
   "cell_type": "markdown",
   "id": "1b0987ae-151a-48ac-b2ce-90d70613dca0",
   "metadata": {},
   "source": [
    "### 2.2 비교연산자"
   ]
  },
  {
   "cell_type": "code",
   "execution_count": null,
   "id": "a78e8c46-65f6-4baf-a6cf-910bd27b7b45",
   "metadata": {},
   "outputs": [],
   "source": [
    "a = 5\n",
    "b = 10"
   ]
  },
  {
   "cell_type": "code",
   "execution_count": 39,
   "id": "93ed2b5d-7fb0-44fb-8522-4b1d74220821",
   "metadata": {},
   "outputs": [
    {
     "name": "stdout",
     "output_type": "stream",
     "text": [
      "False\n",
      "True\n",
      "False\n",
      "True\n"
     ]
    }
   ],
   "source": [
    "print(a > b)\n",
    "print(a < b)\n",
    "print(a >= b)\n",
    "print(a <= b)"
   ]
  },
  {
   "cell_type": "code",
   "execution_count": 40,
   "id": "fde6ec3b-040c-40ac-9344-d33b5bc20605",
   "metadata": {},
   "outputs": [
    {
     "name": "stdout",
     "output_type": "stream",
     "text": [
      "False\n",
      "True\n"
     ]
    }
   ],
   "source": [
    "print(a == b)\n",
    "print(a != b)"
   ]
  },
  {
   "cell_type": "code",
   "execution_count": 43,
   "id": "8e3e36a3-1637-4777-9672-169b99d75ab8",
   "metadata": {},
   "outputs": [
    {
     "name": "stdout",
     "output_type": "stream",
     "text": [
      "True\n",
      "False\n"
     ]
    }
   ],
   "source": [
    "print('hi' == 'hi')\n",
    "print('Hi' == 'hi')"
   ]
  },
  {
   "cell_type": "markdown",
   "id": "e463bc96-dd89-4356-a927-7946a5a3bb91",
   "metadata": {},
   "source": [
    "### 2.3 논리연산자\n",
    "- `and` : 양쪽 모두 `True`일때, `True`를 반환\n",
    "- `or` : 양쪽 모두 `False`일때, `False`를 반환\n",
    "- `not` : 값을 반대로 전환"
   ]
  },
  {
   "cell_type": "code",
   "execution_count": 44,
   "id": "320ec88e-2c8b-41e4-91bf-34f4a2ba34be",
   "metadata": {},
   "outputs": [
    {
     "name": "stdout",
     "output_type": "stream",
     "text": [
      "True\n",
      "False\n",
      "False\n",
      "False\n"
     ]
    }
   ],
   "source": [
    "print(True and True)\n",
    "print(True and False)\n",
    "print(False and True)\n",
    "print(False and False)"
   ]
  },
  {
   "cell_type": "code",
   "execution_count": 45,
   "id": "e96015c0-d17b-440b-8922-ddc563c5c7fa",
   "metadata": {},
   "outputs": [
    {
     "name": "stdout",
     "output_type": "stream",
     "text": [
      "True\n",
      "True\n",
      "True\n",
      "False\n"
     ]
    }
   ],
   "source": [
    "print(True or True)\n",
    "print(True or False)\n",
    "print(False or True)\n",
    "print(False or False)"
   ]
  },
  {
   "cell_type": "code",
   "execution_count": 46,
   "id": "49857e43-0fb9-4020-acb2-215f47942bd2",
   "metadata": {},
   "outputs": [
    {
     "name": "stdout",
     "output_type": "stream",
     "text": [
      "True\n",
      "False\n",
      "False\n"
     ]
    }
   ],
   "source": [
    "print(True)\n",
    "print(not True)\n",
    "\n",
    "a = True\n",
    "print(not a)"
   ]
  },
  {
   "cell_type": "code",
   "execution_count": 47,
   "id": "061af946-658f-476f-b124-edf7d4a723f5",
   "metadata": {},
   "outputs": [
    {
     "name": "stdout",
     "output_type": "stream",
     "text": [
      "5\n",
      "0\n",
      "0\n",
      "0\n"
     ]
    }
   ],
   "source": [
    "# 단축평가(and)\n",
    "print(3 and 5)\n",
    "print(3 and 0)\n",
    "print(0 and 5)\n",
    "print(0 and 0)"
   ]
  },
  {
   "cell_type": "code",
   "execution_count": 48,
   "id": "32af1d44-70db-496a-ac6b-56dadf69f671",
   "metadata": {},
   "outputs": [
    {
     "name": "stdout",
     "output_type": "stream",
     "text": [
      "3\n",
      "3\n",
      "5\n",
      "0\n"
     ]
    }
   ],
   "source": [
    "# 단축평가(or)\n",
    "print(3 or 5)\n",
    "print(3 or 0)\n",
    "print(0 or 5)\n",
    "print(0 or 0)"
   ]
  },
  {
   "cell_type": "code",
   "execution_count": 49,
   "id": "e9ee1e2a-bad5-4555-aae3-0d065439ac38",
   "metadata": {},
   "outputs": [
    {
     "name": "stdout",
     "output_type": "stream",
     "text": [
      "index.html\n"
     ]
    }
   ],
   "source": [
    "print(None or 'index.html')"
   ]
  },
  {
   "cell_type": "code",
   "execution_count": 50,
   "id": "c985cabe-c0c7-45e1-99cb-4e1505dd8a6c",
   "metadata": {},
   "outputs": [
    {
     "name": "stdout",
     "output_type": "stream",
     "text": [
      "login.html\n"
     ]
    }
   ],
   "source": [
    "print('login.html' or 'index.html')"
   ]
  },
  {
   "cell_type": "markdown",
   "id": "33c7dc77-53b8-4d05-88ad-965f8e895888",
   "metadata": {},
   "source": [
    "### 2.4 복합연산자"
   ]
  },
  {
   "cell_type": "code",
   "execution_count": 58,
   "id": "17a5e80d-adc4-41f9-b0b4-f3220d7a48c8",
   "metadata": {},
   "outputs": [],
   "source": [
    "a = 2\n",
    "b = 3"
   ]
  },
  {
   "cell_type": "code",
   "execution_count": 55,
   "id": "c4b3d360-ced0-4541-b24e-0f63b9788619",
   "metadata": {},
   "outputs": [],
   "source": [
    "a = a + b\n",
    "a = a - b\n",
    "a = a * b\n",
    "a = a / b\n",
    "a = a // b\n",
    "a = a % b\n",
    "a = a ** b"
   ]
  },
  {
   "cell_type": "code",
   "execution_count": 56,
   "id": "0f448ef3-b0b9-46ec-b33b-b0623eab0e83",
   "metadata": {},
   "outputs": [
    {
     "name": "stdout",
     "output_type": "stream",
     "text": [
      "8.0\n"
     ]
    }
   ],
   "source": [
    "print(a)"
   ]
  },
  {
   "cell_type": "code",
   "execution_count": 57,
   "id": "da46f42f-bc27-4f80-9629-28726ba91a68",
   "metadata": {},
   "outputs": [
    {
     "name": "stdout",
     "output_type": "stream",
     "text": [
      "8.0\n"
     ]
    }
   ],
   "source": [
    "a += b\n",
    "a -= b\n",
    "a *= b\n",
    "a /= b\n",
    "a //= b\n",
    "a %= b\n",
    "a **= b\n",
    "print(a)"
   ]
  },
  {
   "cell_type": "markdown",
   "id": "05810f9f-3068-4a85-8114-859e200192dc",
   "metadata": {},
   "source": [
    "### 기타연산자"
   ]
  },
  {
   "cell_type": "code",
   "execution_count": 60,
   "id": "b1a9b577-0903-4743-8cec-b009e07ebdac",
   "metadata": {},
   "outputs": [],
   "source": [
    "a = 'hi'\n",
    "b = 'hello'"
   ]
  },
  {
   "cell_type": "code",
   "execution_count": 61,
   "id": "d38c5c1f-1b60-4275-aa70-470e60a8cd8b",
   "metadata": {},
   "outputs": [
    {
     "data": {
      "text/plain": [
       "'hihello'"
      ]
     },
     "execution_count": 61,
     "metadata": {},
     "output_type": "execute_result"
    }
   ],
   "source": [
    "# concatenation\n",
    "a + b"
   ]
  },
  {
   "cell_type": "code",
   "execution_count": 62,
   "id": "bb47d8b6-77cc-4b66-bdbb-cff0c2b4b728",
   "metadata": {},
   "outputs": [],
   "source": [
    "a = [1, 2, 3]\n",
    "b = [9, 8, 7]"
   ]
  },
  {
   "cell_type": "code",
   "execution_count": 63,
   "id": "e046934f-1ccf-45ae-9c98-d6b5b832be99",
   "metadata": {},
   "outputs": [
    {
     "data": {
      "text/plain": [
       "[1, 2, 3, 9, 8, 7]"
      ]
     },
     "execution_count": 63,
     "metadata": {},
     "output_type": "execute_result"
    }
   ],
   "source": [
    "a + b"
   ]
  },
  {
   "cell_type": "code",
   "execution_count": 65,
   "id": "dba77fea-d7d7-400c-aa9a-6dc8aab86fd2",
   "metadata": {},
   "outputs": [
    {
     "name": "stdout",
     "output_type": "stream",
     "text": [
      "True\n",
      "False\n"
     ]
    }
   ],
   "source": [
    "print('a' in 'apple')\n",
    "print('z' in 'apple')"
   ]
  },
  {
   "cell_type": "code",
   "execution_count": 68,
   "id": "d992c7db-5306-4273-b30e-517111c30df3",
   "metadata": {},
   "outputs": [
    {
     "name": "stdout",
     "output_type": "stream",
     "text": [
      "True\n",
      "False\n"
     ]
    }
   ],
   "source": [
    "print(1 in [1, 2, 3])\n",
    "print(100 in [1, 2, 3])"
   ]
  },
  {
   "cell_type": "code",
   "execution_count": 69,
   "id": "fb2a323b-85f9-43b4-a52d-b31be3f6d4d2",
   "metadata": {},
   "outputs": [
    {
     "name": "stdout",
     "output_type": "stream",
     "text": [
      "False\n"
     ]
    }
   ],
   "source": [
    "a = 123123\n",
    "b = 123123\n",
    "print(a is b)"
   ]
  },
  {
   "cell_type": "code",
   "execution_count": 75,
   "id": "d4c25ce6-ecd1-4a23-a55f-df3fc7958fc7",
   "metadata": {},
   "outputs": [
    {
     "name": "stdout",
     "output_type": "stream",
     "text": [
      "True\n"
     ]
    }
   ],
   "source": [
    "a = 10\n",
    "b = 10\n",
    "print(a is b)"
   ]
  },
  {
   "cell_type": "markdown",
   "id": "b6076ab2-ea22-484e-9b69-13ed053437a4",
   "metadata": {},
   "source": [
    "### 연산자 우선순위\n",
    "\n",
    "0. ()를 통해 그룹\n",
    "1. **\n",
    "2. 산술연산자(*, /)\n",
    "3. 산술연산자(+, -)\n",
    "4. 비교연산자, is, in\n",
    "5. not\n",
    "6. and, or"
   ]
  },
  {
   "cell_type": "code",
   "execution_count": 74,
   "id": "3d61e080-7be9-4702-a171-f0bc3cf93ec4",
   "metadata": {},
   "outputs": [
    {
     "name": "stdout",
     "output_type": "stream",
     "text": [
      "81\n",
      "-81\n"
     ]
    }
   ],
   "source": [
    "print((-3) ** 4)\n",
    "print(-3 ** 4)"
   ]
  },
  {
   "cell_type": "markdown",
   "id": "54dbf353-9e94-423a-8875-5e149b66e147",
   "metadata": {},
   "source": [
    "## 3.형변환\n",
    "### 3.1 암시적 형변환"
   ]
  },
  {
   "cell_type": "code",
   "execution_count": 76,
   "id": "c2a175af-c19d-492d-bac8-11e4b19a29b6",
   "metadata": {},
   "outputs": [],
   "source": [
    "a = True\n",
    "b = False\n",
    "c = 1"
   ]
  },
  {
   "cell_type": "code",
   "execution_count": 77,
   "id": "da2f08bf-2a0c-4f49-9403-667ab99e71e5",
   "metadata": {},
   "outputs": [
    {
     "name": "stdout",
     "output_type": "stream",
     "text": [
      "2\n",
      "1\n"
     ]
    }
   ],
   "source": [
    "print(a + c)\n",
    "print(b + c)"
   ]
  },
  {
   "cell_type": "code",
   "execution_count": 78,
   "id": "97ff0c24-8f7b-4c45-b92e-55fc8524178c",
   "metadata": {},
   "outputs": [],
   "source": [
    "int_num = 3\n",
    "float_num = 3.3\n",
    "complex_num = 3 +3j"
   ]
  },
  {
   "cell_type": "code",
   "execution_count": 80,
   "id": "75af9f13-e192-40df-b0cd-55e00038bb67",
   "metadata": {},
   "outputs": [
    {
     "name": "stdout",
     "output_type": "stream",
     "text": [
      "6.3\n",
      "(6+3j)\n"
     ]
    }
   ],
   "source": [
    "print(int_num + float_num)\n",
    "print(int_num + complex_num)"
   ]
  },
  {
   "cell_type": "markdown",
   "id": "327d3424-ddb5-4989-8d79-07afe6766265",
   "metadata": {},
   "source": [
    "### 3.2 명시적 형변환"
   ]
  },
  {
   "cell_type": "code",
   "execution_count": 81,
   "id": "173f1a21-c2dd-48d5-bebb-a99ceb67b1af",
   "metadata": {},
   "outputs": [],
   "source": [
    "a = 1\n",
    "b = '번'"
   ]
  },
  {
   "cell_type": "code",
   "execution_count": 82,
   "id": "d76ba395-0557-4a50-917a-51ee0cc2f81d",
   "metadata": {},
   "outputs": [
    {
     "ename": "TypeError",
     "evalue": "unsupported operand type(s) for +: 'int' and 'str'",
     "output_type": "error",
     "traceback": [
      "\u001b[1;31m---------------------------------------------------------------------------\u001b[0m",
      "\u001b[1;31mTypeError\u001b[0m                                 Traceback (most recent call last)",
      "Cell \u001b[1;32mIn[82], line 1\u001b[0m\n\u001b[1;32m----> 1\u001b[0m \u001b[43ma\u001b[49m\u001b[43m \u001b[49m\u001b[38;5;241;43m+\u001b[39;49m\u001b[43m \u001b[49m\u001b[43mb\u001b[49m\n",
      "\u001b[1;31mTypeError\u001b[0m: unsupported operand type(s) for +: 'int' and 'str'"
     ]
    }
   ],
   "source": [
    "a + b"
   ]
  },
  {
   "cell_type": "code",
   "execution_count": 83,
   "id": "6956dc50-0600-4adb-afa8-fbef35cda550",
   "metadata": {},
   "outputs": [
    {
     "name": "stdout",
     "output_type": "stream",
     "text": [
      "1번\n"
     ]
    }
   ],
   "source": [
    "print(str(a) + b)"
   ]
  },
  {
   "cell_type": "code",
   "execution_count": 95,
   "id": "59eb6c06-6aab-4fbe-abad-0a5136ad9713",
   "metadata": {},
   "outputs": [],
   "source": [
    "a = '100'"
   ]
  },
  {
   "cell_type": "code",
   "execution_count": 99,
   "id": "c8c4a581-ea58-4d05-9a9b-bcee9330c16e",
   "metadata": {},
   "outputs": [
    {
     "name": "stdout",
     "output_type": "stream",
     "text": [
      "1\n"
     ]
    }
   ],
   "source": [
    "print(int(a))"
   ]
  },
  {
   "cell_type": "code",
   "execution_count": null,
   "id": "7169a2f4-22b7-4cb7-8e8a-14822ba2f92a",
   "metadata": {},
   "outputs": [],
   "source": []
  },
  {
   "cell_type": "code",
   "execution_count": 85,
   "id": "7f27de9e-fefe-4123-8280-fd5db67b7692",
   "metadata": {},
   "outputs": [
    {
     "name": "stdout",
     "output_type": "stream",
     "text": [
      "<class 'int'>\n"
     ]
    }
   ],
   "source": [
    "print(type(int(a)))"
   ]
  },
  {
   "cell_type": "code",
   "execution_count": 87,
   "id": "2d126cc1-1f20-4669-8a32-680eefd287df",
   "metadata": {},
   "outputs": [
    {
     "name": "stdin",
     "output_type": "stream",
     "text": [
      " 123123\n"
     ]
    },
    {
     "name": "stdout",
     "output_type": "stream",
     "text": [
      "<class 'str'>\n"
     ]
    }
   ],
   "source": [
    "age = input()\n",
    "print(type(age))"
   ]
  },
  {
   "cell_type": "code",
   "execution_count": 90,
   "id": "79482e6c-6247-4c47-9156-640714ee281f",
   "metadata": {},
   "outputs": [],
   "source": [
    "a = '3.3'"
   ]
  },
  {
   "cell_type": "code",
   "execution_count": 91,
   "id": "9c3a9138-f07b-4bf8-8b60-d7e3f980e6ce",
   "metadata": {},
   "outputs": [
    {
     "ename": "ValueError",
     "evalue": "invalid literal for int() with base 10: '3.3'",
     "output_type": "error",
     "traceback": [
      "\u001b[1;31m---------------------------------------------------------------------------\u001b[0m",
      "\u001b[1;31mValueError\u001b[0m                                Traceback (most recent call last)",
      "Cell \u001b[1;32mIn[91], line 1\u001b[0m\n\u001b[1;32m----> 1\u001b[0m \u001b[38;5;28mtype\u001b[39m(\u001b[38;5;28;43mint\u001b[39;49m\u001b[43m(\u001b[49m\u001b[43ma\u001b[49m\u001b[43m)\u001b[49m)\n",
      "\u001b[1;31mValueError\u001b[0m: invalid literal for int() with base 10: '3.3'"
     ]
    }
   ],
   "source": [
    "type(int(a))"
   ]
  },
  {
   "cell_type": "code",
   "execution_count": 93,
   "id": "40230f47-c6a8-4582-8bda-88abb94815c2",
   "metadata": {},
   "outputs": [
    {
     "data": {
      "text/plain": [
       "float"
      ]
     },
     "execution_count": 93,
     "metadata": {},
     "output_type": "execute_result"
    }
   ],
   "source": [
    "type(float(a))"
   ]
  },
  {
   "cell_type": "code",
   "execution_count": 96,
   "id": "346c18f5-1c5a-4230-ad25-28d32fb0611c",
   "metadata": {},
   "outputs": [],
   "source": [
    "a = 1\n",
    "b = 0\n",
    "c = 100"
   ]
  },
  {
   "cell_type": "code",
   "execution_count": 97,
   "id": "99c3c2dc-899a-4d12-bbae-9a781ed90a10",
   "metadata": {},
   "outputs": [
    {
     "name": "stdout",
     "output_type": "stream",
     "text": [
      "True\n",
      "False\n",
      "True\n"
     ]
    }
   ],
   "source": [
    "print(bool(a))\n",
    "print(bool(b))\n",
    "print(bool(c))"
   ]
  },
  {
   "cell_type": "code",
   "execution_count": 100,
   "id": "08809b58-bbd3-4c34-bb3c-f65259255b86",
   "metadata": {},
   "outputs": [
    {
     "name": "stdout",
     "output_type": "stream",
     "text": [
      "False\n",
      "True\n"
     ]
    }
   ],
   "source": [
    "print(bool(''))\n",
    "print(bool('apple'))"
   ]
  },
  {
   "cell_type": "code",
   "execution_count": 102,
   "id": "e34d59b5-96cf-48b3-9b60-f527a2d8504d",
   "metadata": {},
   "outputs": [
    {
     "name": "stdout",
     "output_type": "stream",
     "text": [
      "False\n",
      "True\n"
     ]
    }
   ],
   "source": [
    "print(bool([]))\n",
    "print(bool([1, 2, 3]))"
   ]
  },
  {
   "cell_type": "markdown",
   "id": "cd73f4ac-62d2-470f-85d3-8c22dbdc7a5f",
   "metadata": {},
   "source": [
    "## 4. 시퀀스(sequence) 자료형\n",
    "\n",
    "시퀀스는 데이터의 순서대로 나열된 자료구조. (순서대로 나열되어있다는 것은 정렬된것과는 다르다.)\n",
    "\n",
    "1. 리스트(list)\n",
    "2. 튜플(tuple)\n",
    "3. 레인지(range)\n",
    "4. 문자열(string)"
   ]
  },
  {
   "cell_type": "markdown",
   "id": "d2beab03-460a-4d83-8eb3-2b6536b90529",
   "metadata": {},
   "source": [
    "### 4.1 List(배열)\n",
    "- 선언 : 변수이름 = [value1, value2, value3]\n",
    "- 접근 : 변수이름[index]"
   ]
  },
  {
   "cell_type": "code",
   "execution_count": 105,
   "id": "5b058222-60e1-4097-ad85-3b51f84543a5",
   "metadata": {},
   "outputs": [
    {
     "name": "stdout",
     "output_type": "stream",
     "text": [
      "[]\n",
      "<class 'list'>\n"
     ]
    }
   ],
   "source": [
    "l = []\n",
    "print(l)\n",
    "print(type(l))"
   ]
  },
  {
   "cell_type": "code",
   "execution_count": 109,
   "id": "0e544bc2-7ef7-4e5f-978c-800007938c8b",
   "metadata": {},
   "outputs": [
    {
     "name": "stdout",
     "output_type": "stream",
     "text": [
      "['서울', '대전', '부산']\n",
      "<class 'list'>\n",
      "부산\n",
      "부산\n",
      "['서울', '대전', '제주']\n"
     ]
    }
   ],
   "source": [
    "location = ['서울', '대전', '부산']\n",
    "print(location)\n",
    "print(type(location))\n",
    "\n",
    "print(location[2])\n",
    "print(location[-1])\n",
    "\n",
    "location[2] = '제주'\n",
    "print(location)"
   ]
  },
  {
   "cell_type": "markdown",
   "id": "6963f516-057e-4acf-a30d-c1314fda93a1",
   "metadata": {},
   "source": [
    "### 4.2 Tuple\n",
    " - 선언 : 변수이름 = (value1, value2, value3)\n",
    " - 접근 : 변수이름(index)\n",
    " - List와 유사하지만 수정불가능(immutable)하다."
   ]
  },
  {
   "cell_type": "code",
   "execution_count": 110,
   "id": "7491d887-3f90-45b0-8fd7-5d7f48907d7e",
   "metadata": {},
   "outputs": [
    {
     "name": "stdout",
     "output_type": "stream",
     "text": [
      "(1, 2, 3)\n",
      "<class 'tuple'>\n",
      "3\n"
     ]
    }
   ],
   "source": [
    "t = (1, 2, 3)\n",
    "print(t)\n",
    "print(type(t))\n",
    "print(t[2])"
   ]
  },
  {
   "cell_type": "code",
   "execution_count": 111,
   "id": "74f039ed-3451-43f8-a176-eea0420ff2d6",
   "metadata": {},
   "outputs": [
    {
     "ename": "TypeError",
     "evalue": "'tuple' object does not support item assignment",
     "output_type": "error",
     "traceback": [
      "\u001b[1;31m---------------------------------------------------------------------------\u001b[0m",
      "\u001b[1;31mTypeError\u001b[0m                                 Traceback (most recent call last)",
      "Cell \u001b[1;32mIn[111], line 1\u001b[0m\n\u001b[1;32m----> 1\u001b[0m \u001b[43mt\u001b[49m\u001b[43m[\u001b[49m\u001b[38;5;241;43m2\u001b[39;49m\u001b[43m]\u001b[49m \u001b[38;5;241m=\u001b[39m \u001b[38;5;241m100\u001b[39m\n",
      "\u001b[1;31mTypeError\u001b[0m: 'tuple' object does not support item assignment"
     ]
    }
   ],
   "source": [
    "t[2] = 100"
   ]
  },
  {
   "cell_type": "code",
   "execution_count": 115,
   "id": "e17443c2-2108-4aa0-8776-b3f3d43664f0",
   "metadata": {},
   "outputs": [
    {
     "name": "stdout",
     "output_type": "stream",
     "text": [
      "<class 'tuple'>\n",
      "2\n"
     ]
    }
   ],
   "source": [
    "result = divmod(9, 4)\n",
    "print(type(result))\n",
    "print(result[0])"
   ]
  },
  {
   "cell_type": "code",
   "execution_count": 117,
   "id": "cd24076a-6f79-4f97-969e-5bc8f3a26ac0",
   "metadata": {},
   "outputs": [
    {
     "name": "stdout",
     "output_type": "stream",
     "text": [
      "1 2\n",
      "2 1\n"
     ]
    }
   ],
   "source": [
    "x, y = (1, 2)\n",
    "print(x, y)\n",
    "\n",
    "x, y = (y, x)\n",
    "print(x, y)"
   ]
  },
  {
   "cell_type": "markdown",
   "id": "82ec41c7-63c2-426d-ac74-27f307786a59",
   "metadata": {},
   "source": [
    "### 4.3 range\n",
    "- range(n) : 0부터 n-1까지 범위\n",
    "- range(n, m) : n부터 m-1까지 범위\n",
    "- range(n, m, s) : n부터 m-1까지 범위, +s 만큼 증가하는 범위"
   ]
  },
  {
   "cell_type": "code",
   "execution_count": 118,
   "id": "dab44c32-5cd0-4d2e-8133-0777e3b2f6f8",
   "metadata": {},
   "outputs": [
    {
     "name": "stdout",
     "output_type": "stream",
     "text": [
      "range(0, 5)\n",
      "<class 'range'>\n"
     ]
    }
   ],
   "source": [
    "r = range(5)\n",
    "print(r)\n",
    "print(type(r))"
   ]
  },
  {
   "cell_type": "code",
   "execution_count": 119,
   "id": "d00dc887-c804-429f-928c-4739cb563991",
   "metadata": {},
   "outputs": [
    {
     "name": "stdout",
     "output_type": "stream",
     "text": [
      "range(5, 15)\n"
     ]
    }
   ],
   "source": [
    "r = range(5, 15)\n",
    "print(r)"
   ]
  },
  {
   "cell_type": "code",
   "execution_count": 120,
   "id": "3aeda698-c4cc-4d22-893b-3abe63499385",
   "metadata": {},
   "outputs": [
    {
     "name": "stdout",
     "output_type": "stream",
     "text": [
      "range(5, 15, 2)\n"
     ]
    }
   ],
   "source": [
    "r = range(5, 15, 2)\n",
    "print(r)"
   ]
  },
  {
   "cell_type": "code",
   "execution_count": 121,
   "id": "1ae93998-fe18-4773-a469-2c72042eebb0",
   "metadata": {},
   "outputs": [
    {
     "data": {
      "text/plain": [
       "[5, 7, 9, 11, 13]"
      ]
     },
     "execution_count": 121,
     "metadata": {},
     "output_type": "execute_result"
    }
   ],
   "source": [
    "list(r)"
   ]
  },
  {
   "cell_type": "markdown",
   "id": "e3ce4403-3a3c-4ad0-a32e-884d4c36e638",
   "metadata": {},
   "source": [
    "### 4.4 string\n",
    "기본데이터 구조참조"
   ]
  },
  {
   "cell_type": "markdown",
   "id": "2dad8c1c-b9da-4ea7-8b12-667bece4776f",
   "metadata": {},
   "source": [
    "### 4.5 시퀀스에서 사용 가능한 연산/함수"
   ]
  },
  {
   "cell_type": "code",
   "execution_count": 122,
   "id": "bccfc046-4c92-47e0-b745-cf89d82750aa",
   "metadata": {},
   "outputs": [],
   "source": [
    "my_list = [1, 2, 3, 4, 5]\n",
    "my_tuple = (11, 22 , 33, 44, 55)\n",
    "my_range = range(1, 10, 2)\n",
    "my_string = '일이삼사오'"
   ]
  },
  {
   "cell_type": "code",
   "execution_count": 123,
   "id": "79a58851-6b92-4914-b660-ff99ce39ed30",
   "metadata": {},
   "outputs": [
    {
     "name": "stdout",
     "output_type": "stream",
     "text": [
      "2\n",
      "22\n",
      "3\n",
      "이\n"
     ]
    }
   ],
   "source": [
    "# indexing\n",
    "print(my_list[1])\n",
    "print(my_tuple[1])\n",
    "print(my_range[1])\n",
    "print(my_string[1])"
   ]
  },
  {
   "cell_type": "code",
   "execution_count": 124,
   "id": "30c466eb-0fc3-44a8-b0e5-dcb83b7ffe31",
   "metadata": {},
   "outputs": [
    {
     "name": "stdout",
     "output_type": "stream",
     "text": [
      "[2, 3]\n",
      "(22, 33)\n",
      "range(3, 7, 2)\n",
      "이삼\n"
     ]
    }
   ],
   "source": [
    "# slicing\n",
    "print(my_list[1:3])\n",
    "print(my_tuple[1:3])\n",
    "print(my_range[1:3])\n",
    "print(my_string[1:3])"
   ]
  },
  {
   "cell_type": "code",
   "execution_count": 128,
   "id": "945ab493-36d9-40ad-bd97-fa5f2e3abd5a",
   "metadata": {},
   "outputs": [
    {
     "name": "stdout",
     "output_type": "stream",
     "text": [
      "[2, 4]\n",
      "range(5, 11, 4)\n"
     ]
    }
   ],
   "source": [
    "print(my_list[1:4:2])\n",
    "print(my_range[2:7:2])"
   ]
  },
  {
   "cell_type": "code",
   "execution_count": 129,
   "id": "2285e490-1b14-43ef-a117-51b3d927cc61",
   "metadata": {},
   "outputs": [
    {
     "name": "stdout",
     "output_type": "stream",
     "text": [
      "[1, 2, 3]\n",
      "[4, 5]\n"
     ]
    }
   ],
   "source": [
    "print(my_list[ : 3])\n",
    "print(my_list[3:])"
   ]
  },
  {
   "cell_type": "code",
   "execution_count": 130,
   "id": "c604ef1a-a21f-4b78-bdc5-025c384bdd0c",
   "metadata": {},
   "outputs": [
    {
     "name": "stdout",
     "output_type": "stream",
     "text": [
      "True\n",
      "True\n",
      "True\n",
      "True\n"
     ]
    }
   ],
   "source": [
    "#in\n",
    "print(1 in my_list)\n",
    "print(11 in my_tuple)\n",
    "print(1 in my_range)\n",
    "print('일' in my_string)"
   ]
  },
  {
   "cell_type": "code",
   "execution_count": 132,
   "id": "b0d64955-96bd-4f7c-8868-749a6e1bed70",
   "metadata": {},
   "outputs": [
    {
     "name": "stdout",
     "output_type": "stream",
     "text": [
      "True\n",
      "True\n",
      "False\n",
      "True\n"
     ]
    }
   ],
   "source": [
    "# not in\n",
    "print(11 not in my_list)\n",
    "print(100 not in my_tuple)\n",
    "print(1 not in my_range)\n",
    "print('구' not in my_string)"
   ]
  },
  {
   "cell_type": "code",
   "execution_count": 133,
   "id": "2d314099-da62-4e76-9ff9-a6a3df3c666b",
   "metadata": {},
   "outputs": [
    {
     "name": "stdout",
     "output_type": "stream",
     "text": [
      "[1, 2, 3, 4, 5, 1, 2, 3, 4, 5]\n",
      "(11, 22, 33, 44, 55, 1, 2, 3)\n"
     ]
    }
   ],
   "source": [
    "# concatenation\n",
    "print(my_list + [1, 2, 3, 4, 5])\n",
    "print(my_tuple + (1, 2,3))"
   ]
  },
  {
   "cell_type": "code",
   "execution_count": 136,
   "id": "3365e706-f41b-46eb-9209-39ed41e9d37e",
   "metadata": {},
   "outputs": [
    {
     "name": "stdout",
     "output_type": "stream",
     "text": [
      "일이삼사오일이삼사오일이삼사오\n",
      "[1, 2, 3, 4, 5, 1, 2, 3, 4, 5, 1, 2, 3, 4, 5]\n",
      "[[0, 0, 0, 0, 0, 0, 0, 0, 0, 0], [0, 0, 0, 0, 0, 0, 0, 0, 0, 0], [0, 0, 0, 0, 0, 0, 0, 0, 0, 0], [0, 0, 0, 0, 0, 0, 0, 0, 0, 0], [0, 0, 0, 0, 0, 0, 0, 0, 0, 0], [0, 0, 0, 0, 0, 0, 0, 0, 0, 0], [0, 0, 0, 0, 0, 0, 0, 0, 0, 0], [0, 0, 0, 0, 0, 0, 0, 0, 0, 0], [0, 0, 0, 0, 0, 0, 0, 0, 0, 0], [0, 0, 0, 0, 0, 0, 0, 0, 0, 0]]\n"
     ]
    }
   ],
   "source": [
    "# *\n",
    "print(my_string * 3)\n",
    "print(my_list * 3)\n",
    "\n",
    "print([[0] * 10] * 10)"
   ]
  },
  {
   "cell_type": "code",
   "execution_count": 137,
   "id": "d27b3426-0439-4e47-8992-38a2f8ca665e",
   "metadata": {},
   "outputs": [
    {
     "data": {
      "text/plain": [
       "5"
      ]
     },
     "execution_count": 137,
     "metadata": {},
     "output_type": "execute_result"
    }
   ],
   "source": [
    "len(my_list)"
   ]
  },
  {
   "cell_type": "code",
   "execution_count": 138,
   "id": "cfc87705-dc0a-445d-814e-2408f68be278",
   "metadata": {},
   "outputs": [
    {
     "data": {
      "text/plain": [
       "11"
      ]
     },
     "execution_count": 138,
     "metadata": {},
     "output_type": "execute_result"
    }
   ],
   "source": [
    "min(my_tuple)"
   ]
  },
  {
   "cell_type": "code",
   "execution_count": 139,
   "id": "7c607ba1-51e9-480a-86fd-e20da0cf758d",
   "metadata": {},
   "outputs": [
    {
     "data": {
      "text/plain": [
       "9"
      ]
     },
     "execution_count": 139,
     "metadata": {},
     "output_type": "execute_result"
    }
   ],
   "source": [
    "max(my_range)"
   ]
  },
  {
   "cell_type": "code",
   "execution_count": 140,
   "id": "aaa2e6f2-02bd-4f22-9858-7ea85748926c",
   "metadata": {},
   "outputs": [
    {
     "data": {
      "text/plain": [
       "'일'"
      ]
     },
     "execution_count": 140,
     "metadata": {},
     "output_type": "execute_result"
    }
   ],
   "source": [
    "max(my_string)"
   ]
  },
  {
   "cell_type": "code",
   "execution_count": 141,
   "id": "c708917a-7bed-4229-b34d-28de83fb5a94",
   "metadata": {},
   "outputs": [
    {
     "data": {
      "text/plain": [
       "1"
      ]
     },
     "execution_count": 141,
     "metadata": {},
     "output_type": "execute_result"
    }
   ],
   "source": [
    "my_list.count(1)"
   ]
  },
  {
   "cell_type": "markdown",
   "id": "febcda63-abc7-4663-adbd-2b321b1e4301",
   "metadata": {},
   "source": [
    "## 5. 시퀀스데이터가 아닌 자료구조\n",
    "### 5.1 set\n",
    "수학에서 사용하는 집합과 동일하게 처리(중복된 값이 없음)\n",
    "- 선언 : 변수이름 = {value1, value2, value3}"
   ]
  },
  {
   "cell_type": "code",
   "execution_count": 142,
   "id": "62730a84-6357-4436-889b-a8ce8e5f3e12",
   "metadata": {},
   "outputs": [],
   "source": [
    "my_set_a = {1, 2, 3, 4, 5}\n",
    "my_set_b = {1, 3, 5, 7, 9}"
   ]
  },
  {
   "cell_type": "code",
   "execution_count": 143,
   "id": "a0458333-2ddd-4f51-82c0-2a32ea7648eb",
   "metadata": {},
   "outputs": [
    {
     "name": "stdout",
     "output_type": "stream",
     "text": [
      "{2, 4}\n",
      "{1, 2, 3, 4, 5, 7, 9}\n",
      "{1, 3, 5}\n"
     ]
    }
   ],
   "source": [
    "print(my_set_a - my_set_b)\n",
    "print(my_set_a | my_set_b)\n",
    "print(my_set_a & my_set_b)"
   ]
  },
  {
   "cell_type": "code",
   "execution_count": 144,
   "id": "607fad39-31e1-450f-b36e-9ddea48777e7",
   "metadata": {},
   "outputs": [
    {
     "name": "stdout",
     "output_type": "stream",
     "text": [
      "{1, 2, 3, 4, 5, 6, 7, 8}\n"
     ]
    }
   ],
   "source": [
    "my_list = [1, 2, 3, 1, 4, 1, 2, 3, 5, 6, 7, 8, 2, 2]\n",
    "print(set(my_list))"
   ]
  },
  {
   "cell_type": "markdown",
   "id": "202bee1c-3434-4356-a5d7-733ccce7bdf3",
   "metadata": {},
   "source": [
    "### 5.2 dictionary\n",
    "- 선언 : 변수이름 = {key1 : value1, key2: value2, key3: value3}\n",
    "- 접근 : 변수이름[key]\n",
    "- dictionary는 key와 value가 쌍으로 이루어져있다.\n",
    "- key에는 immutable한 모든 값을 사용가능.(불변값 : string, integer...)\n",
    "- value에는 모든 데이터 가능.(list,dict도 가능)"
   ]
  },
  {
   "cell_type": "code",
   "execution_count": 145,
   "id": "0ef12793-a237-40c6-a5c8-fe0c8970e572",
   "metadata": {},
   "outputs": [
    {
     "data": {
      "text/plain": [
       "'02'"
      ]
     },
     "execution_count": 145,
     "metadata": {},
     "output_type": "execute_result"
    }
   ],
   "source": [
    "my_dict = {'서울': '02', '경기': '031'}\n",
    "my_dict['서울']"
   ]
  },
  {
   "cell_type": "code",
   "execution_count": 156,
   "id": "47293a71-cefe-4b38-bf11-833bf2e4d6d7",
   "metadata": {},
   "outputs": [
    {
     "name": "stdout",
     "output_type": "stream",
     "text": [
      "10\n",
      "4\n",
      "11\n"
     ]
    }
   ],
   "source": [
    "dict_a = {\n",
    "    'name': 'changhee',\n",
    "    'age': 10,\n",
    "    'location': 'seoul',\n",
    "    'numbers': [1, 2, 3, 4, 5],\n",
    "    'friends' : {\n",
    "        'a': 10,\n",
    "        'b': 11,\n",
    "    },\n",
    "}\n",
    "\n",
    "print(dict_a['age'])\n",
    "print(dict_a['numbers'][3])\n",
    "print(dict_a['friends']['b'])"
   ]
  },
  {
   "cell_type": "code",
   "execution_count": 157,
   "id": "a0032be6-8fe8-4836-a3b2-612b5bfdd923",
   "metadata": {},
   "outputs": [
    {
     "data": {
      "text/plain": [
       "<function dict.keys>"
      ]
     },
     "execution_count": 157,
     "metadata": {},
     "output_type": "execute_result"
    }
   ],
   "source": [
    "dict_a.keys"
   ]
  },
  {
   "cell_type": "code",
   "execution_count": 158,
   "id": "a0f5709e-e677-4c23-bb67-d4c0e9cc6080",
   "metadata": {},
   "outputs": [
    {
     "ename": "AttributeError",
     "evalue": "'dict' object has no attribute 'value'",
     "output_type": "error",
     "traceback": [
      "\u001b[1;31m---------------------------------------------------------------------------\u001b[0m",
      "\u001b[1;31mAttributeError\u001b[0m                            Traceback (most recent call last)",
      "Cell \u001b[1;32mIn[158], line 1\u001b[0m\n\u001b[1;32m----> 1\u001b[0m \u001b[43mdict_a\u001b[49m\u001b[38;5;241;43m.\u001b[39;49m\u001b[43mvalue\u001b[49m()\n",
      "\u001b[1;31mAttributeError\u001b[0m: 'dict' object has no attribute 'value'"
     ]
    }
   ],
   "source": [
    "dict_a.value()"
   ]
  },
  {
   "cell_type": "code",
   "execution_count": null,
   "id": "30562135-aa5e-469c-9b4e-aee04705589c",
   "metadata": {},
   "outputs": [],
   "source": [
    "dict_value(['changhee', 10, 'seoul', [1, 2, 3, 4, 5], {`a`}])"
   ]
  },
  {
   "cell_type": "markdown",
   "id": "64636387-c81c-4dfa-88f6-8f4371dc9e5e",
   "metadata": {},
   "source": [
    "## 데이터 타입\n",
    "\n",
    "1. Number\n",
    "2. Boolean\n",
    "3. String\n",
    "\n",
    "## 자료구조\n",
    "\n",
    "- 시퀀스 자료형\n",
    "\n",
    "1.[List] : mutable\n",
    "2.(Tuple) : immutable\n",
    "3.range() : immutable\n",
    "4.'String' : immutable\n",
    "- 시퀀스가 아닌 자료형\n",
    "  1.{Set} : mutable\n",
    "  2.{Dict ionary} : mutable"
   ]
  },
  {
   "cell_type": "code",
   "execution_count": null,
   "id": "17ac8301-0585-451a-be93-e9bfc222522e",
   "metadata": {},
   "outputs": [],
   "source": []
  },
  {
   "cell_type": "code",
   "execution_count": null,
   "id": "35d039b0-0ab1-4e69-9699-f15c60bb0dd9",
   "metadata": {},
   "outputs": [],
   "source": []
  },
  {
   "cell_type": "code",
   "execution_count": null,
   "id": "dd3aafaf-c3cb-4048-bfde-77acb2482174",
   "metadata": {},
   "outputs": [],
   "source": []
  },
  {
   "cell_type": "code",
   "execution_count": null,
   "id": "ca8575d5-7eb8-4e95-a247-0ef9e2d0e3ab",
   "metadata": {},
   "outputs": [],
   "source": []
  },
  {
   "cell_type": "code",
   "execution_count": null,
   "id": "b10e95e0-6d44-4a23-b3b0-4ed1f025d953",
   "metadata": {},
   "outputs": [],
   "source": []
  },
  {
   "cell_type": "code",
   "execution_count": null,
   "id": "78c6e5a2-436c-44e5-8468-eb3ea1c0390a",
   "metadata": {},
   "outputs": [],
   "source": []
  },
  {
   "cell_type": "code",
   "execution_count": null,
   "id": "cc54f660-de8d-41d2-bc8f-4590e59ff042",
   "metadata": {},
   "outputs": [],
   "source": []
  },
  {
   "cell_type": "code",
   "execution_count": null,
   "id": "208baf40-551f-4094-9a73-929bcf39e6bb",
   "metadata": {},
   "outputs": [],
   "source": []
  },
  {
   "cell_type": "code",
   "execution_count": null,
   "id": "30e7c062-1a12-4bef-8037-b8b89c4b512e",
   "metadata": {},
   "outputs": [],
   "source": []
  },
  {
   "cell_type": "code",
   "execution_count": null,
   "id": "76d6318b-06a2-47bd-b912-3f29ef963055",
   "metadata": {},
   "outputs": [],
   "source": []
  },
  {
   "cell_type": "code",
   "execution_count": null,
   "id": "a5523c5e-c783-4d05-a6c9-3d6841358df8",
   "metadata": {},
   "outputs": [],
   "source": []
  },
  {
   "cell_type": "code",
   "execution_count": null,
   "id": "8f05281d-2535-4310-bcc6-92c048b3d75b",
   "metadata": {},
   "outputs": [],
   "source": []
  },
  {
   "cell_type": "code",
   "execution_count": null,
   "id": "42c4a16d-23f6-4ab2-98eb-ad4619622c13",
   "metadata": {},
   "outputs": [],
   "source": []
  },
  {
   "cell_type": "code",
   "execution_count": null,
   "id": "d775bcd4-3cd1-47cb-9f22-378fbb696b14",
   "metadata": {},
   "outputs": [],
   "source": []
  },
  {
   "cell_type": "code",
   "execution_count": null,
   "id": "6497792b-701b-46e7-8e5e-c3ca1cb2f7ea",
   "metadata": {},
   "outputs": [],
   "source": []
  },
  {
   "cell_type": "code",
   "execution_count": null,
   "id": "9210af18-dd47-4272-8ed9-9a91806adf33",
   "metadata": {},
   "outputs": [],
   "source": []
  },
  {
   "cell_type": "code",
   "execution_count": null,
   "id": "72409fcd-264a-4d14-afcd-f1861614f1b7",
   "metadata": {},
   "outputs": [],
   "source": []
  },
  {
   "cell_type": "code",
   "execution_count": null,
   "id": "b2ac09a1-2273-4d1d-82bc-6bf30940bce4",
   "metadata": {},
   "outputs": [],
   "source": []
  },
  {
   "cell_type": "code",
   "execution_count": null,
   "id": "7ff1a4de-7753-4a11-9df3-deb2617c3757",
   "metadata": {},
   "outputs": [],
   "source": []
  }
 ],
 "metadata": {
  "kernelspec": {
   "display_name": "Python 3 (ipykernel)",
   "language": "python",
   "name": "python3"
  },
  "language_info": {
   "codemirror_mode": {
    "name": "ipython",
    "version": 3
   },
   "file_extension": ".py",
   "mimetype": "text/x-python",
   "name": "python",
   "nbconvert_exporter": "python",
   "pygments_lexer": "ipython3",
   "version": "3.11.5"
  }
 },
 "nbformat": 4,
 "nbformat_minor": 5
}
